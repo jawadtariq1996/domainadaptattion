{
  "nbformat": 4,
  "nbformat_minor": 0,
  "metadata": {
    "colab": {
      "name": "FSDA_Code.ipynb",
      "provenance": [],
      "collapsed_sections": [
        "LkwVeRDxXzlg",
        "XYD4-BqFXI2E",
        "jwU81G-wXQi6",
        "VEhT5sO7pHmX",
        "ixDog7-GWv4B",
        "F-4-b9nqXLvJ",
        "oRWLqoACQRGY",
        "RVjiCuGkLGH2",
        "2-MLWIOGjQZJ",
        "u_jUaJmWjhmA"
      ],
      "toc_visible": true
    },
    "kernelspec": {
      "name": "python3",
      "display_name": "Python 3"
    },
    "accelerator": "GPU",
    "widgets": {
      "application/vnd.jupyter.widget-state+json": {
        "5e6fdf927d9849c0bc56be736ee2804a": {
          "model_module": "@jupyter-widgets/controls",
          "model_name": "HBoxModel",
          "state": {
            "_view_name": "HBoxView",
            "_dom_classes": [],
            "_model_name": "HBoxModel",
            "_view_module": "@jupyter-widgets/controls",
            "_model_module_version": "1.5.0",
            "_view_count": null,
            "_view_module_version": "1.5.0",
            "box_style": "",
            "layout": "IPY_MODEL_7ae3feeebf204a5dbb5e16b70cbb2f10",
            "_model_module": "@jupyter-widgets/controls",
            "children": [
              "IPY_MODEL_43675276a1b44903a0deb7e9ca6a6b15",
              "IPY_MODEL_806601cbafa4479b8ff2bfefeccf2f6e"
            ]
          }
        },
        "7ae3feeebf204a5dbb5e16b70cbb2f10": {
          "model_module": "@jupyter-widgets/base",
          "model_name": "LayoutModel",
          "state": {
            "_view_name": "LayoutView",
            "grid_template_rows": null,
            "right": null,
            "justify_content": null,
            "_view_module": "@jupyter-widgets/base",
            "overflow": null,
            "_model_module_version": "1.2.0",
            "_view_count": null,
            "flex_flow": null,
            "width": null,
            "min_width": null,
            "border": null,
            "align_items": null,
            "bottom": null,
            "_model_module": "@jupyter-widgets/base",
            "top": null,
            "grid_column": null,
            "overflow_y": null,
            "overflow_x": null,
            "grid_auto_flow": null,
            "grid_area": null,
            "grid_template_columns": null,
            "flex": null,
            "_model_name": "LayoutModel",
            "justify_items": null,
            "grid_row": null,
            "max_height": null,
            "align_content": null,
            "visibility": null,
            "align_self": null,
            "height": null,
            "min_height": null,
            "padding": null,
            "grid_auto_rows": null,
            "grid_gap": null,
            "max_width": null,
            "order": null,
            "_view_module_version": "1.2.0",
            "grid_template_areas": null,
            "object_position": null,
            "object_fit": null,
            "grid_auto_columns": null,
            "margin": null,
            "display": null,
            "left": null
          }
        },
        "43675276a1b44903a0deb7e9ca6a6b15": {
          "model_module": "@jupyter-widgets/controls",
          "model_name": "FloatProgressModel",
          "state": {
            "_view_name": "ProgressView",
            "style": "IPY_MODEL_7b8b2ec1100a42f695958094981a810b",
            "_dom_classes": [],
            "description": "100%",
            "_model_name": "FloatProgressModel",
            "bar_style": "success",
            "max": 553433881,
            "_view_module": "@jupyter-widgets/controls",
            "_model_module_version": "1.5.0",
            "value": 553433881,
            "_view_count": null,
            "_view_module_version": "1.5.0",
            "orientation": "horizontal",
            "min": 0,
            "description_tooltip": null,
            "_model_module": "@jupyter-widgets/controls",
            "layout": "IPY_MODEL_e9d61557f3e541e7847fa4ca20f8dfa7"
          }
        },
        "806601cbafa4479b8ff2bfefeccf2f6e": {
          "model_module": "@jupyter-widgets/controls",
          "model_name": "HTMLModel",
          "state": {
            "_view_name": "HTMLView",
            "style": "IPY_MODEL_973810d5e4844760a607f8c1e249439f",
            "_dom_classes": [],
            "description": "",
            "_model_name": "HTMLModel",
            "placeholder": "​",
            "_view_module": "@jupyter-widgets/controls",
            "_model_module_version": "1.5.0",
            "value": " 528M/528M [00:04&lt;00:00, 129MB/s]",
            "_view_count": null,
            "_view_module_version": "1.5.0",
            "description_tooltip": null,
            "_model_module": "@jupyter-widgets/controls",
            "layout": "IPY_MODEL_0075cd793cd54bc1947b164a2cffdf4c"
          }
        },
        "7b8b2ec1100a42f695958094981a810b": {
          "model_module": "@jupyter-widgets/controls",
          "model_name": "ProgressStyleModel",
          "state": {
            "_view_name": "StyleView",
            "_model_name": "ProgressStyleModel",
            "description_width": "initial",
            "_view_module": "@jupyter-widgets/base",
            "_model_module_version": "1.5.0",
            "_view_count": null,
            "_view_module_version": "1.2.0",
            "bar_color": null,
            "_model_module": "@jupyter-widgets/controls"
          }
        },
        "e9d61557f3e541e7847fa4ca20f8dfa7": {
          "model_module": "@jupyter-widgets/base",
          "model_name": "LayoutModel",
          "state": {
            "_view_name": "LayoutView",
            "grid_template_rows": null,
            "right": null,
            "justify_content": null,
            "_view_module": "@jupyter-widgets/base",
            "overflow": null,
            "_model_module_version": "1.2.0",
            "_view_count": null,
            "flex_flow": null,
            "width": null,
            "min_width": null,
            "border": null,
            "align_items": null,
            "bottom": null,
            "_model_module": "@jupyter-widgets/base",
            "top": null,
            "grid_column": null,
            "overflow_y": null,
            "overflow_x": null,
            "grid_auto_flow": null,
            "grid_area": null,
            "grid_template_columns": null,
            "flex": null,
            "_model_name": "LayoutModel",
            "justify_items": null,
            "grid_row": null,
            "max_height": null,
            "align_content": null,
            "visibility": null,
            "align_self": null,
            "height": null,
            "min_height": null,
            "padding": null,
            "grid_auto_rows": null,
            "grid_gap": null,
            "max_width": null,
            "order": null,
            "_view_module_version": "1.2.0",
            "grid_template_areas": null,
            "object_position": null,
            "object_fit": null,
            "grid_auto_columns": null,
            "margin": null,
            "display": null,
            "left": null
          }
        },
        "973810d5e4844760a607f8c1e249439f": {
          "model_module": "@jupyter-widgets/controls",
          "model_name": "DescriptionStyleModel",
          "state": {
            "_view_name": "StyleView",
            "_model_name": "DescriptionStyleModel",
            "description_width": "",
            "_view_module": "@jupyter-widgets/base",
            "_model_module_version": "1.5.0",
            "_view_count": null,
            "_view_module_version": "1.2.0",
            "_model_module": "@jupyter-widgets/controls"
          }
        },
        "0075cd793cd54bc1947b164a2cffdf4c": {
          "model_module": "@jupyter-widgets/base",
          "model_name": "LayoutModel",
          "state": {
            "_view_name": "LayoutView",
            "grid_template_rows": null,
            "right": null,
            "justify_content": null,
            "_view_module": "@jupyter-widgets/base",
            "overflow": null,
            "_model_module_version": "1.2.0",
            "_view_count": null,
            "flex_flow": null,
            "width": null,
            "min_width": null,
            "border": null,
            "align_items": null,
            "bottom": null,
            "_model_module": "@jupyter-widgets/base",
            "top": null,
            "grid_column": null,
            "overflow_y": null,
            "overflow_x": null,
            "grid_auto_flow": null,
            "grid_area": null,
            "grid_template_columns": null,
            "flex": null,
            "_model_name": "LayoutModel",
            "justify_items": null,
            "grid_row": null,
            "max_height": null,
            "align_content": null,
            "visibility": null,
            "align_self": null,
            "height": null,
            "min_height": null,
            "padding": null,
            "grid_auto_rows": null,
            "grid_gap": null,
            "max_width": null,
            "order": null,
            "_view_module_version": "1.2.0",
            "grid_template_areas": null,
            "object_position": null,
            "object_fit": null,
            "grid_auto_columns": null,
            "margin": null,
            "display": null,
            "left": null
          }
        }
      }
    }
  },
  "cells": [
    {
      "cell_type": "code",
      "metadata": {
        "id": "UIV6RnEeVHJU",
        "colab_type": "code",
        "colab": {}
      },
      "source": [
        "### NOTE:\n",
        "### RUN VGG section only if you want VGG16 as your classifier.\n",
        "### RUN RESNET section only if you want RESNET as your classifier.\n",
        "### Do not just run the code altogether.\n",
        "### It is recommended to use colab for this notebook.\n",
        "### Please provide path to folder/models where asked."
      ],
      "execution_count": null,
      "outputs": []
    },
    {
      "cell_type": "markdown",
      "metadata": {
        "id": "LkwVeRDxXzlg",
        "colab_type": "text"
      },
      "source": [
        "# **Importing required Libraries**"
      ]
    },
    {
      "cell_type": "code",
      "metadata": {
        "id": "3Q-QTUB8P2s8",
        "colab_type": "code",
        "colab": {
          "base_uri": "https://localhost:8080/",
          "height": 73
        },
        "outputId": "6fd83b4d-9142-4f6a-f388-6224b90b5f5a"
      },
      "source": [
        "import seaborn as sns\n",
        "import torch\n",
        "import torch.nn as nn\n",
        "import torch.optim as optim\n",
        "from torch.optim import lr_scheduler\n",
        "from torch.autograd import Variable\n",
        "from torch.autograd import Function\n",
        "import numpy as np\n",
        "import torchvision\n",
        "from torchvision import datasets, models, transforms\n",
        "import matplotlib.pyplot as plt\n",
        "import time\n",
        "import os\n",
        "import copy\n",
        "import pandas as pd\n",
        "import numpy as np\n",
        "from sklearn.metrics import confusion_matrix\n",
        "from sklearn.metrics import accuracy_score\n",
        "from sklearn.metrics import classification_report \n",
        "import matplotlib.pyplot as plt\n",
        "import time"
      ],
      "execution_count": null,
      "outputs": [
        {
          "output_type": "stream",
          "text": [
            "/usr/local/lib/python3.6/dist-packages/statsmodels/tools/_testing.py:19: FutureWarning: pandas.util.testing is deprecated. Use the functions in the public API at pandas.testing instead.\n",
            "  import pandas.util.testing as tm\n"
          ],
          "name": "stderr"
        }
      ]
    },
    {
      "cell_type": "code",
      "metadata": {
        "id": "A-CIzp8FQEZt",
        "colab_type": "code",
        "colab": {
          "base_uri": "https://localhost:8080/",
          "height": 127
        },
        "outputId": "454f0aa4-9715-422e-a8a1-08e963536434"
      },
      "source": [
        "from google.colab import drive\n",
        "drive.mount('/content/drive')"
      ],
      "execution_count": null,
      "outputs": [
        {
          "output_type": "stream",
          "text": [
            "Go to this URL in a browser: https://accounts.google.com/o/oauth2/auth?client_id=947318989803-6bn6qk8qdgf4n4g3pfee6491hc0brc4i.apps.googleusercontent.com&redirect_uri=urn%3aietf%3awg%3aoauth%3a2.0%3aoob&response_type=code&scope=email%20https%3a%2f%2fwww.googleapis.com%2fauth%2fdocs.test%20https%3a%2f%2fwww.googleapis.com%2fauth%2fdrive%20https%3a%2f%2fwww.googleapis.com%2fauth%2fdrive.photos.readonly%20https%3a%2f%2fwww.googleapis.com%2fauth%2fpeopleapi.readonly\n",
            "\n",
            "Enter your authorization code:\n",
            "··········\n",
            "Mounted at /content/drive\n"
          ],
          "name": "stdout"
        }
      ]
    },
    {
      "cell_type": "markdown",
      "metadata": {
        "id": "XYD4-BqFXI2E",
        "colab_type": "text"
      },
      "source": [
        "# **Data Loading**"
      ]
    },
    {
      "cell_type": "code",
      "metadata": {
        "id": "mK1iy-8YghZB",
        "colab_type": "code",
        "colab": {}
      },
      "source": [
        "image_size = 224\n",
        "batch_size = 5\n",
        "\n",
        "pk_data = 'PATH_TO_PAK_DATASET_1'\n",
        "pk_test = 'PATH_TO_PAK_DATASET_2'\n",
        "west_data_tr = 'PATH_TO_RAF_DB_TRAINING_DATASET'\n",
        "west_data_test = 'PATH_TO_RAF_DB_TESTING_DATASET'\n",
        "vgg16_model_path = 'PATH_TO_VGG16_SAVED_MODEL'          ### This model will be updated in every epoch while training\n",
        "resnet18_model_path = 'PATH_TO_RESNET18_SAVED_MODEL'    ### This model will be updated in every epoch while training\n",
        "\n",
        "\n",
        "transform_train = transforms.Compose([\n",
        "    transforms.Resize((224,224)),\n",
        "    transforms.RandomCrop(224),\n",
        "    transforms.RandomHorizontalFlip(),\n",
        "    transforms.ToTensor(),\n",
        "])\n",
        "\n",
        "pk_dataset = datasets.ImageFolder(pk_data , transform= transform_train)\n",
        "pk_loader = torch.utils.data.DataLoader(pk_dataset, batch_size=batch_size, shuffle=True)\n",
        "\n",
        "pk_dataset_test = datasets.ImageFolder(pk_test , transform= transform_train)\n",
        "pk_loader_test = torch.utils.data.DataLoader(pk_dataset_test, batch_size=batch_size, shuffle=True)\n",
        "\n",
        "west_dataset_tr = datasets.ImageFolder(west_data_tr , transform= transform_train)\n",
        "west_loader_tr = torch.utils.data.DataLoader(west_dataset_tr, batch_size=batch_size, shuffle=True)\n",
        "\n",
        "west_dataset_test = datasets.ImageFolder(west_data_test , transform= transform_train)\n",
        "west_loader_test = torch.utils.data.DataLoader(west_dataset_test, batch_size=batch_size, shuffle=True)"
      ],
      "execution_count": null,
      "outputs": []
    },
    {
      "cell_type": "code",
      "metadata": {
        "id": "C-Wfw_RXky4b",
        "colab_type": "code",
        "colab": {
          "base_uri": "https://localhost:8080/",
          "height": 71
        },
        "outputId": "ae21c0f2-0a3a-4fa5-f14c-685c36a01654"
      },
      "source": [
        "print('Source training data length: ', len(west_loader_tr.dataset))\n",
        "print('Source testing data length: ', len(west_loader_test.dataset))\n",
        "print('Target data 1 length: ', len(pk_loader.dataset))"
      ],
      "execution_count": null,
      "outputs": [
        {
          "output_type": "stream",
          "text": [
            "Source training data length:  12271\n",
            "Source testing data length:  3067\n",
            "Target data 1 length:  2975\n"
          ],
          "name": "stdout"
        }
      ]
    },
    {
      "cell_type": "code",
      "metadata": {
        "id": "98CxsZ4cDdrr",
        "colab_type": "code",
        "colab": {
          "base_uri": "https://localhost:8080/",
          "height": 53
        },
        "outputId": "4fd005f8-7023-4964-abb7-f310f540bead"
      },
      "source": [
        "print('Target data 2 length: ', len(pk_loader_test.dataset))\n",
        "print('Target dataloader 2 length: ', len(pk_loader_test))"
      ],
      "execution_count": null,
      "outputs": [
        {
          "output_type": "stream",
          "text": [
            "Target data 2 length:  725\n",
            "Target dataloader 2 length:  145\n"
          ],
          "name": "stdout"
        }
      ]
    },
    {
      "cell_type": "markdown",
      "metadata": {
        "id": "jwU81G-wXQi6",
        "colab_type": "text"
      },
      "source": [
        "# **Defining Some important functions**"
      ]
    },
    {
      "cell_type": "code",
      "metadata": {
        "id": "T017iim-QJ3z",
        "colab_type": "code",
        "colab": {}
      },
      "source": [
        "# Autograd Function objects are what record operation history on tensors,\n",
        "# and define formulas for the forward and backprop.\n",
        "\n",
        "class GradientReversalFn(Function):\n",
        "    @staticmethod\n",
        "    def forward(ctx, x, alpha):\n",
        "        # Store context for backprop\n",
        "        ctx.alpha = alpha\n",
        "        \n",
        "        # Forward pass is a no-op\n",
        "        return x.view_as(x)\n",
        "\n",
        "    @staticmethod\n",
        "    def backward(ctx, grad_output):\n",
        "        # Backward pass is just to -alpha the gradient\n",
        "        output = grad_output.neg() * ctx.alpha\n",
        "\n",
        "        # Must return same number as inputs to forward()\n",
        "        return output, None"
      ],
      "execution_count": null,
      "outputs": []
    },
    {
      "cell_type": "code",
      "metadata": {
        "id": "rLF0ULn5Bu3l",
        "colab_type": "code",
        "colab": {}
      },
      "source": [
        "device = torch.device(\"cuda:0\" if torch.cuda.is_available() else \"cpu\")"
      ],
      "execution_count": null,
      "outputs": []
    },
    {
      "cell_type": "markdown",
      "metadata": {
        "id": "VEhT5sO7pHmX",
        "colab_type": "text"
      },
      "source": [
        "## Accuracy functions definition"
      ]
    },
    {
      "cell_type": "code",
      "metadata": {
        "id": "CznUaulHBI6C",
        "colab_type": "code",
        "colab": {}
      },
      "source": [
        "def accuracy_s(test_loader,model):\n",
        "    correct = 0\n",
        "    total = 0\n",
        "    label_list= []\n",
        "    pred_list = []\n",
        "    with torch.no_grad():\n",
        "        i = 1\n",
        "        for data in test_loader:\n",
        "            if i != 2455:\n",
        "                images, labels = data\n",
        "                images, labels = images.to(device), labels.to(device)\n",
        "                outputs, _ = model(images)\n",
        "                _, predicted = torch.max(outputs.data, 1)\n",
        "                \n",
        "                label_list.extend(labels.cpu().numpy())\n",
        "                pred_list.extend(predicted.cpu().numpy())\n",
        "                i = i+1\n",
        "          \n",
        "    \n",
        "    ## Going to Calculate Confusion Matrix and F1 Score Using SKLearn:\n",
        "\n",
        "    ## Going to Calculate Confusion Matrix and F1 Score Using SKLearn:\n",
        "\n",
        "    acc_score = accuracy_score(label_list, pred_list)\n",
        "    print(\"Accuracy Score : \",acc_score)\n",
        "\n",
        "    c_report =  classification_report(label_list,pred_list) \n",
        "    print(\"\\n\\nClassification Report\")\n",
        "    print(c_report)\n",
        "\n",
        "    con_matrix = confusion_matrix(label_list, pred_list) \n",
        "    print(\"\\n\\nPrining Confusion Matrix: \")\n",
        "    fig, ax = plt.subplots(figsize=(10,8))\n",
        "    ticks = ['Angry', 'Disgust', 'Fear', 'Happy', 'Neutral', 'Sad', 'Surprise']\n",
        "    sns.heatmap(con_matrix, annot=True,cmap= 'Blues', xticklabels = ticks,  yticklabels = ticks)"
      ],
      "execution_count": null,
      "outputs": []
    },
    {
      "cell_type": "code",
      "metadata": {
        "id": "ccU0pG3uqln0",
        "colab_type": "code",
        "colab": {}
      },
      "source": [
        "def accuracy(test_loader,model):\n",
        "    correct = 0\n",
        "    total = 0\n",
        "    label_list= []\n",
        "    pred_list = []\n",
        "    with torch.no_grad():\n",
        "        for data in test_loader:\n",
        "            images, labels = data\n",
        "            images, labels = images.to(device), labels.to(device)\n",
        "            outputs, _ = model(images)\n",
        "            _, predicted = torch.max(outputs.data, 1)\n",
        "            \n",
        "            label_list.extend(labels.cpu().numpy())\n",
        "            pred_list.extend(predicted.cpu().numpy())\n",
        "          \n",
        "    \n",
        "    ## Going to Calculate Confusion Matrix and F1 Score Using SKLearn:\n",
        "\n",
        "    acc_score = accuracy_score(label_list, pred_list)\n",
        "    print(\"Accuracy Score : \",acc_score)\n",
        "\n",
        "    c_report =  classification_report(label_list,pred_list) \n",
        "    print(\"\\n\\nClassification Report\")\n",
        "    print(c_report)\n",
        "\n",
        "    con_matrix = confusion_matrix(label_list, pred_list) \n",
        "    print(\"\\n\\nPrining Confusion Matrix: \")\n",
        "    fig, ax = plt.subplots(figsize=(10,8))\n",
        "    ticks = ['Angry', 'Disgust', 'Fear', 'Happy', 'Neutral', 'Sad', 'Surprise']\n",
        "    sns.heatmap(con_matrix, annot=True,cmap= 'Blues', xticklabels = ticks,  yticklabels = ticks)"
      ],
      "execution_count": null,
      "outputs": []
    },
    {
      "cell_type": "markdown",
      "metadata": {
        "id": "ixDog7-GWv4B",
        "colab_type": "text"
      },
      "source": [
        "# **VGG16**"
      ]
    },
    {
      "cell_type": "code",
      "metadata": {
        "id": "PuD1GH1u7nyf",
        "colab_type": "code",
        "colab": {
          "base_uri": "https://localhost:8080/",
          "height": 913,
          "referenced_widgets": [
            "5e6fdf927d9849c0bc56be736ee2804a",
            "7ae3feeebf204a5dbb5e16b70cbb2f10",
            "43675276a1b44903a0deb7e9ca6a6b15",
            "806601cbafa4479b8ff2bfefeccf2f6e",
            "7b8b2ec1100a42f695958094981a810b",
            "e9d61557f3e541e7847fa4ca20f8dfa7",
            "973810d5e4844760a607f8c1e249439f",
            "0075cd793cd54bc1947b164a2cffdf4c"
          ]
        },
        "outputId": "df535e7a-2fbc-463d-c271-b1a5c02d5253"
      },
      "source": [
        "vgg16 = models.vgg16(pretrained=True)\n",
        "print(vgg16)\n",
        "print('Output Layer of VGG16 : ', vgg16.classifier[6].out_features)"
      ],
      "execution_count": null,
      "outputs": [
        {
          "output_type": "stream",
          "text": [
            "Downloading: \"https://download.pytorch.org/models/vgg16-397923af.pth\" to /root/.cache/torch/checkpoints/vgg16-397923af.pth\n"
          ],
          "name": "stderr"
        },
        {
          "output_type": "display_data",
          "data": {
            "application/vnd.jupyter.widget-view+json": {
              "model_id": "5e6fdf927d9849c0bc56be736ee2804a",
              "version_minor": 0,
              "version_major": 2
            },
            "text/plain": [
              "HBox(children=(FloatProgress(value=0.0, max=553433881.0), HTML(value='')))"
            ]
          },
          "metadata": {
            "tags": []
          }
        },
        {
          "output_type": "stream",
          "text": [
            "\n",
            "VGG(\n",
            "  (features): Sequential(\n",
            "    (0): Conv2d(3, 64, kernel_size=(3, 3), stride=(1, 1), padding=(1, 1))\n",
            "    (1): ReLU(inplace=True)\n",
            "    (2): Conv2d(64, 64, kernel_size=(3, 3), stride=(1, 1), padding=(1, 1))\n",
            "    (3): ReLU(inplace=True)\n",
            "    (4): MaxPool2d(kernel_size=2, stride=2, padding=0, dilation=1, ceil_mode=False)\n",
            "    (5): Conv2d(64, 128, kernel_size=(3, 3), stride=(1, 1), padding=(1, 1))\n",
            "    (6): ReLU(inplace=True)\n",
            "    (7): Conv2d(128, 128, kernel_size=(3, 3), stride=(1, 1), padding=(1, 1))\n",
            "    (8): ReLU(inplace=True)\n",
            "    (9): MaxPool2d(kernel_size=2, stride=2, padding=0, dilation=1, ceil_mode=False)\n",
            "    (10): Conv2d(128, 256, kernel_size=(3, 3), stride=(1, 1), padding=(1, 1))\n",
            "    (11): ReLU(inplace=True)\n",
            "    (12): Conv2d(256, 256, kernel_size=(3, 3), stride=(1, 1), padding=(1, 1))\n",
            "    (13): ReLU(inplace=True)\n",
            "    (14): Conv2d(256, 256, kernel_size=(3, 3), stride=(1, 1), padding=(1, 1))\n",
            "    (15): ReLU(inplace=True)\n",
            "    (16): MaxPool2d(kernel_size=2, stride=2, padding=0, dilation=1, ceil_mode=False)\n",
            "    (17): Conv2d(256, 512, kernel_size=(3, 3), stride=(1, 1), padding=(1, 1))\n",
            "    (18): ReLU(inplace=True)\n",
            "    (19): Conv2d(512, 512, kernel_size=(3, 3), stride=(1, 1), padding=(1, 1))\n",
            "    (20): ReLU(inplace=True)\n",
            "    (21): Conv2d(512, 512, kernel_size=(3, 3), stride=(1, 1), padding=(1, 1))\n",
            "    (22): ReLU(inplace=True)\n",
            "    (23): MaxPool2d(kernel_size=2, stride=2, padding=0, dilation=1, ceil_mode=False)\n",
            "    (24): Conv2d(512, 512, kernel_size=(3, 3), stride=(1, 1), padding=(1, 1))\n",
            "    (25): ReLU(inplace=True)\n",
            "    (26): Conv2d(512, 512, kernel_size=(3, 3), stride=(1, 1), padding=(1, 1))\n",
            "    (27): ReLU(inplace=True)\n",
            "    (28): Conv2d(512, 512, kernel_size=(3, 3), stride=(1, 1), padding=(1, 1))\n",
            "    (29): ReLU(inplace=True)\n",
            "    (30): MaxPool2d(kernel_size=2, stride=2, padding=0, dilation=1, ceil_mode=False)\n",
            "  )\n",
            "  (avgpool): AdaptiveAvgPool2d(output_size=(7, 7))\n",
            "  (classifier): Sequential(\n",
            "    (0): Linear(in_features=25088, out_features=4096, bias=True)\n",
            "    (1): ReLU(inplace=True)\n",
            "    (2): Dropout(p=0.5, inplace=False)\n",
            "    (3): Linear(in_features=4096, out_features=4096, bias=True)\n",
            "    (4): ReLU(inplace=True)\n",
            "    (5): Dropout(p=0.5, inplace=False)\n",
            "    (6): Linear(in_features=4096, out_features=1000, bias=True)\n",
            "  )\n",
            ")\n",
            "Output Layer of VGG16 :  1000\n"
          ],
          "name": "stdout"
        }
      ]
    },
    {
      "cell_type": "code",
      "metadata": {
        "id": "lXUKKl9n7uAc",
        "colab_type": "code",
        "colab": {}
      },
      "source": [
        "for param in vgg16.features.parameters():\n",
        "    param.require_grad = True"
      ],
      "execution_count": null,
      "outputs": []
    },
    {
      "cell_type": "code",
      "metadata": {
        "id": "8kyLZC2b7wvK",
        "colab_type": "code",
        "colab": {
          "base_uri": "https://localhost:8080/",
          "height": 773
        },
        "outputId": "10c78076-2ba1-4890-9ef9-ccee5e0f54ba"
      },
      "source": [
        "vgg16.classifier = nn.Sequential(\n",
        "                      nn.Linear(25088,480,bias=True), \n",
        "                      nn.ReLU(inplace= True),\n",
        "                      nn.Dropout(p = 0.5,inplace=False),\n",
        "                      nn.Linear(480,7,bias=True),\n",
        "                      #nn.LogSoftmax(dim=1)                  \n",
        "                     )\n",
        "vgg16.to(device)"
      ],
      "execution_count": null,
      "outputs": [
        {
          "output_type": "execute_result",
          "data": {
            "text/plain": [
              "VGG(\n",
              "  (features): Sequential(\n",
              "    (0): Conv2d(3, 64, kernel_size=(3, 3), stride=(1, 1), padding=(1, 1))\n",
              "    (1): ReLU(inplace=True)\n",
              "    (2): Conv2d(64, 64, kernel_size=(3, 3), stride=(1, 1), padding=(1, 1))\n",
              "    (3): ReLU(inplace=True)\n",
              "    (4): MaxPool2d(kernel_size=2, stride=2, padding=0, dilation=1, ceil_mode=False)\n",
              "    (5): Conv2d(64, 128, kernel_size=(3, 3), stride=(1, 1), padding=(1, 1))\n",
              "    (6): ReLU(inplace=True)\n",
              "    (7): Conv2d(128, 128, kernel_size=(3, 3), stride=(1, 1), padding=(1, 1))\n",
              "    (8): ReLU(inplace=True)\n",
              "    (9): MaxPool2d(kernel_size=2, stride=2, padding=0, dilation=1, ceil_mode=False)\n",
              "    (10): Conv2d(128, 256, kernel_size=(3, 3), stride=(1, 1), padding=(1, 1))\n",
              "    (11): ReLU(inplace=True)\n",
              "    (12): Conv2d(256, 256, kernel_size=(3, 3), stride=(1, 1), padding=(1, 1))\n",
              "    (13): ReLU(inplace=True)\n",
              "    (14): Conv2d(256, 256, kernel_size=(3, 3), stride=(1, 1), padding=(1, 1))\n",
              "    (15): ReLU(inplace=True)\n",
              "    (16): MaxPool2d(kernel_size=2, stride=2, padding=0, dilation=1, ceil_mode=False)\n",
              "    (17): Conv2d(256, 512, kernel_size=(3, 3), stride=(1, 1), padding=(1, 1))\n",
              "    (18): ReLU(inplace=True)\n",
              "    (19): Conv2d(512, 512, kernel_size=(3, 3), stride=(1, 1), padding=(1, 1))\n",
              "    (20): ReLU(inplace=True)\n",
              "    (21): Conv2d(512, 512, kernel_size=(3, 3), stride=(1, 1), padding=(1, 1))\n",
              "    (22): ReLU(inplace=True)\n",
              "    (23): MaxPool2d(kernel_size=2, stride=2, padding=0, dilation=1, ceil_mode=False)\n",
              "    (24): Conv2d(512, 512, kernel_size=(3, 3), stride=(1, 1), padding=(1, 1))\n",
              "    (25): ReLU(inplace=True)\n",
              "    (26): Conv2d(512, 512, kernel_size=(3, 3), stride=(1, 1), padding=(1, 1))\n",
              "    (27): ReLU(inplace=True)\n",
              "    (28): Conv2d(512, 512, kernel_size=(3, 3), stride=(1, 1), padding=(1, 1))\n",
              "    (29): ReLU(inplace=True)\n",
              "    (30): MaxPool2d(kernel_size=2, stride=2, padding=0, dilation=1, ceil_mode=False)\n",
              "  )\n",
              "  (avgpool): AdaptiveAvgPool2d(output_size=(7, 7))\n",
              "  (classifier): Sequential(\n",
              "    (0): Linear(in_features=25088, out_features=480, bias=True)\n",
              "    (1): ReLU(inplace=True)\n",
              "    (2): Dropout(p=0.5, inplace=False)\n",
              "    (3): Linear(in_features=480, out_features=7, bias=True)\n",
              "  )\n",
              ")"
            ]
          },
          "metadata": {
            "tags": []
          },
          "execution_count": 11
        }
      ]
    },
    {
      "cell_type": "code",
      "metadata": {
        "id": "VxX5Yq_wrnW-",
        "colab_type": "code",
        "colab": {}
      },
      "source": [
        "vgg16.load_state_dict(torch.load(vgg16_model_path))"
      ],
      "execution_count": null,
      "outputs": []
    },
    {
      "cell_type": "code",
      "metadata": {
        "id": "Kd67LBKlXFCG",
        "colab_type": "code",
        "colab": {}
      },
      "source": [
        "cls = vgg16.classifier\n",
        "cls"
      ],
      "execution_count": null,
      "outputs": []
    },
    {
      "cell_type": "code",
      "metadata": {
        "id": "JsXtlj9hOH6b",
        "colab_type": "code",
        "colab": {}
      },
      "source": [
        "vgg16 = torch.nn.Sequential(*(list(vgg16.children())[:-1]))\n",
        "vgg16.to(device)"
      ],
      "execution_count": null,
      "outputs": []
    },
    {
      "cell_type": "code",
      "metadata": {
        "id": "1G1PljU-7jOh",
        "colab_type": "code",
        "colab": {}
      },
      "source": [
        "class DACNN(nn.Module):\n",
        "    def __init__(self):\n",
        "        super().__init__()\n",
        "        self.vgg16 = vgg16\n",
        "        self.label_predictor = cls\n",
        "        self.softMax = nn.Sequential(nn.LogSoftmax(dim=1))\n",
        "        self.domain_classifier = nn.Sequential(\n",
        "            nn.Linear(25088, 256), nn.BatchNorm1d(256),\n",
        "            nn.ReLU(True),\n",
        "            nn.Linear(256, 128), nn.BatchNorm1d(128),\n",
        "            nn.ReLU(True),\n",
        "            nn.Linear(128, 64), nn.BatchNorm1d(64),\n",
        "            nn.ReLU(True),\n",
        "            nn.Linear(64, 2),\n",
        "            nn.LogSoftmax(dim=1),\n",
        "        )\n",
        "\n",
        "    def forward(self, x, grl_lambda=1.0):\n",
        "        # Handle single-channel input by expanding (repeating) the singleton dimention\n",
        "        x = x.expand(x.data.shape[0], 3, image_size, image_size)\n",
        "\n",
        "        features = self.vgg16(x)\n",
        "        features = features.view(-1, 25088)\n",
        "        \n",
        "        reverse_features = GradientReversalFn.apply(features, grl_lambda)\n",
        "        \n",
        "        features = self.label_predictor(features)\n",
        "        class_pred = self.softMax(features)\n",
        "\n",
        "        domain_pred = self.domain_classifier(reverse_features)\n",
        "        return class_pred, domain_pred"
      ],
      "execution_count": null,
      "outputs": []
    },
    {
      "cell_type": "code",
      "metadata": {
        "id": "_j7FCwh6QO1H",
        "colab_type": "code",
        "colab": {
          "base_uri": "https://localhost:8080/",
          "height": 323
        },
        "outputId": "1777d60b-d71a-47e5-9c96-de9033fe87b1"
      },
      "source": [
        "model = DACNN()\n",
        "model.to(device)\n",
        "\n",
        "x0_s, y0_s = next(iter(west_loader_tr))\n",
        "x0_t, y0_t = next(iter(pk_loader))\n",
        "\n",
        "print('source domain: ', x0_s.shape, y0_s.shape)\n",
        "print('target domain: ', x0_t.shape, y0_t.shape)\n",
        "\n",
        "model(x0_s.to(device))\n",
        "model(x0_t.to(device))"
      ],
      "execution_count": null,
      "outputs": [
        {
          "output_type": "stream",
          "text": [
            "source domain:  torch.Size([5, 3, 224, 224]) torch.Size([5])\n",
            "target domain:  torch.Size([5, 3, 224, 224]) torch.Size([5])\n"
          ],
          "name": "stdout"
        },
        {
          "output_type": "execute_result",
          "data": {
            "text/plain": [
              "(tensor([[-8.2743e+00, -8.7074e+00, -9.6413e+00, -1.4786e+01, -1.2226e+00,\n",
              "          -3.4955e-01, -1.0192e+01],\n",
              "         [-1.5431e+01, -1.4971e+01, -1.1705e+01, -1.2475e+01, -5.9271e+00,\n",
              "          -1.0176e+01, -2.7199e-03],\n",
              "         [-5.2798e+00, -4.1593e+00, -3.3428e+00, -6.5765e+00, -3.1298e-01,\n",
              "          -4.4616e+00, -1.6107e+00],\n",
              "         [-7.5180e+00, -7.7030e+00, -5.3221e+00, -1.9414e+00, -1.7506e-01,\n",
              "          -5.8063e+00, -4.8022e+00],\n",
              "         [-6.7020e+00, -4.3474e+00, -8.0249e+00, -1.0235e+01, -1.9140e+00,\n",
              "          -1.7692e-01, -8.9458e+00]], device='cuda:0',\n",
              "        grad_fn=<LogSoftmaxBackward>), tensor([[-0.4513, -1.0127],\n",
              "         [-0.5676, -0.8367],\n",
              "         [-1.4509, -0.2670],\n",
              "         [-0.6306, -0.7599],\n",
              "         [-0.5105, -0.9168]], device='cuda:0', grad_fn=<LogSoftmaxBackward>))"
            ]
          },
          "metadata": {
            "tags": []
          },
          "execution_count": 95
        }
      ]
    },
    {
      "cell_type": "markdown",
      "metadata": {
        "id": "F-4-b9nqXLvJ",
        "colab_type": "text"
      },
      "source": [
        "# **ResNET18**"
      ]
    },
    {
      "cell_type": "code",
      "metadata": {
        "colab_type": "code",
        "id": "sNjweuhlXy4u",
        "colab": {
          "base_uri": "https://localhost:8080/",
          "height": 1000
        },
        "outputId": "ab24089d-c01a-4ae3-b046-036f5d9c85aa"
      },
      "source": [
        "resNet18 = models.resnet18(pretrained=True)\n",
        "print(resNet18)"
      ],
      "execution_count": null,
      "outputs": [
        {
          "output_type": "stream",
          "text": [
            "ResNet(\n",
            "  (conv1): Conv2d(3, 64, kernel_size=(7, 7), stride=(2, 2), padding=(3, 3), bias=False)\n",
            "  (bn1): BatchNorm2d(64, eps=1e-05, momentum=0.1, affine=True, track_running_stats=True)\n",
            "  (relu): ReLU(inplace=True)\n",
            "  (maxpool): MaxPool2d(kernel_size=3, stride=2, padding=1, dilation=1, ceil_mode=False)\n",
            "  (layer1): Sequential(\n",
            "    (0): BasicBlock(\n",
            "      (conv1): Conv2d(64, 64, kernel_size=(3, 3), stride=(1, 1), padding=(1, 1), bias=False)\n",
            "      (bn1): BatchNorm2d(64, eps=1e-05, momentum=0.1, affine=True, track_running_stats=True)\n",
            "      (relu): ReLU(inplace=True)\n",
            "      (conv2): Conv2d(64, 64, kernel_size=(3, 3), stride=(1, 1), padding=(1, 1), bias=False)\n",
            "      (bn2): BatchNorm2d(64, eps=1e-05, momentum=0.1, affine=True, track_running_stats=True)\n",
            "    )\n",
            "    (1): BasicBlock(\n",
            "      (conv1): Conv2d(64, 64, kernel_size=(3, 3), stride=(1, 1), padding=(1, 1), bias=False)\n",
            "      (bn1): BatchNorm2d(64, eps=1e-05, momentum=0.1, affine=True, track_running_stats=True)\n",
            "      (relu): ReLU(inplace=True)\n",
            "      (conv2): Conv2d(64, 64, kernel_size=(3, 3), stride=(1, 1), padding=(1, 1), bias=False)\n",
            "      (bn2): BatchNorm2d(64, eps=1e-05, momentum=0.1, affine=True, track_running_stats=True)\n",
            "    )\n",
            "  )\n",
            "  (layer2): Sequential(\n",
            "    (0): BasicBlock(\n",
            "      (conv1): Conv2d(64, 128, kernel_size=(3, 3), stride=(2, 2), padding=(1, 1), bias=False)\n",
            "      (bn1): BatchNorm2d(128, eps=1e-05, momentum=0.1, affine=True, track_running_stats=True)\n",
            "      (relu): ReLU(inplace=True)\n",
            "      (conv2): Conv2d(128, 128, kernel_size=(3, 3), stride=(1, 1), padding=(1, 1), bias=False)\n",
            "      (bn2): BatchNorm2d(128, eps=1e-05, momentum=0.1, affine=True, track_running_stats=True)\n",
            "      (downsample): Sequential(\n",
            "        (0): Conv2d(64, 128, kernel_size=(1, 1), stride=(2, 2), bias=False)\n",
            "        (1): BatchNorm2d(128, eps=1e-05, momentum=0.1, affine=True, track_running_stats=True)\n",
            "      )\n",
            "    )\n",
            "    (1): BasicBlock(\n",
            "      (conv1): Conv2d(128, 128, kernel_size=(3, 3), stride=(1, 1), padding=(1, 1), bias=False)\n",
            "      (bn1): BatchNorm2d(128, eps=1e-05, momentum=0.1, affine=True, track_running_stats=True)\n",
            "      (relu): ReLU(inplace=True)\n",
            "      (conv2): Conv2d(128, 128, kernel_size=(3, 3), stride=(1, 1), padding=(1, 1), bias=False)\n",
            "      (bn2): BatchNorm2d(128, eps=1e-05, momentum=0.1, affine=True, track_running_stats=True)\n",
            "    )\n",
            "  )\n",
            "  (layer3): Sequential(\n",
            "    (0): BasicBlock(\n",
            "      (conv1): Conv2d(128, 256, kernel_size=(3, 3), stride=(2, 2), padding=(1, 1), bias=False)\n",
            "      (bn1): BatchNorm2d(256, eps=1e-05, momentum=0.1, affine=True, track_running_stats=True)\n",
            "      (relu): ReLU(inplace=True)\n",
            "      (conv2): Conv2d(256, 256, kernel_size=(3, 3), stride=(1, 1), padding=(1, 1), bias=False)\n",
            "      (bn2): BatchNorm2d(256, eps=1e-05, momentum=0.1, affine=True, track_running_stats=True)\n",
            "      (downsample): Sequential(\n",
            "        (0): Conv2d(128, 256, kernel_size=(1, 1), stride=(2, 2), bias=False)\n",
            "        (1): BatchNorm2d(256, eps=1e-05, momentum=0.1, affine=True, track_running_stats=True)\n",
            "      )\n",
            "    )\n",
            "    (1): BasicBlock(\n",
            "      (conv1): Conv2d(256, 256, kernel_size=(3, 3), stride=(1, 1), padding=(1, 1), bias=False)\n",
            "      (bn1): BatchNorm2d(256, eps=1e-05, momentum=0.1, affine=True, track_running_stats=True)\n",
            "      (relu): ReLU(inplace=True)\n",
            "      (conv2): Conv2d(256, 256, kernel_size=(3, 3), stride=(1, 1), padding=(1, 1), bias=False)\n",
            "      (bn2): BatchNorm2d(256, eps=1e-05, momentum=0.1, affine=True, track_running_stats=True)\n",
            "    )\n",
            "  )\n",
            "  (layer4): Sequential(\n",
            "    (0): BasicBlock(\n",
            "      (conv1): Conv2d(256, 512, kernel_size=(3, 3), stride=(2, 2), padding=(1, 1), bias=False)\n",
            "      (bn1): BatchNorm2d(512, eps=1e-05, momentum=0.1, affine=True, track_running_stats=True)\n",
            "      (relu): ReLU(inplace=True)\n",
            "      (conv2): Conv2d(512, 512, kernel_size=(3, 3), stride=(1, 1), padding=(1, 1), bias=False)\n",
            "      (bn2): BatchNorm2d(512, eps=1e-05, momentum=0.1, affine=True, track_running_stats=True)\n",
            "      (downsample): Sequential(\n",
            "        (0): Conv2d(256, 512, kernel_size=(1, 1), stride=(2, 2), bias=False)\n",
            "        (1): BatchNorm2d(512, eps=1e-05, momentum=0.1, affine=True, track_running_stats=True)\n",
            "      )\n",
            "    )\n",
            "    (1): BasicBlock(\n",
            "      (conv1): Conv2d(512, 512, kernel_size=(3, 3), stride=(1, 1), padding=(1, 1), bias=False)\n",
            "      (bn1): BatchNorm2d(512, eps=1e-05, momentum=0.1, affine=True, track_running_stats=True)\n",
            "      (relu): ReLU(inplace=True)\n",
            "      (conv2): Conv2d(512, 512, kernel_size=(3, 3), stride=(1, 1), padding=(1, 1), bias=False)\n",
            "      (bn2): BatchNorm2d(512, eps=1e-05, momentum=0.1, affine=True, track_running_stats=True)\n",
            "    )\n",
            "  )\n",
            "  (avgpool): AdaptiveAvgPool2d(output_size=(1, 1))\n",
            "  (fc): Linear(in_features=512, out_features=1000, bias=True)\n",
            ")\n"
          ],
          "name": "stdout"
        }
      ]
    },
    {
      "cell_type": "code",
      "metadata": {
        "colab_type": "code",
        "id": "yxLm0oscXy45",
        "colab": {}
      },
      "source": [
        "for param in resNet18.parameters():\n",
        "    param.require_grad = True"
      ],
      "execution_count": null,
      "outputs": []
    },
    {
      "cell_type": "code",
      "metadata": {
        "colab_type": "code",
        "id": "nbO5vADTXy5A",
        "colab": {}
      },
      "source": [
        "resNet18.fc = nn.Sequential(\n",
        "               nn.Linear(512, 480),\n",
        "               nn.ReLU(inplace=True),\n",
        "               nn.Linear(480, 7))"
      ],
      "execution_count": null,
      "outputs": []
    },
    {
      "cell_type": "code",
      "metadata": {
        "colab_type": "code",
        "id": "cssjBj5qXy5G",
        "colab": {
          "base_uri": "https://localhost:8080/",
          "height": 35
        },
        "outputId": "31134476-086f-4b5a-9ef5-ae27dcd3c5dd"
      },
      "source": [
        "resNet18.load_state_dict(torch.load(resnet18_model_path))"
      ],
      "execution_count": null,
      "outputs": [
        {
          "output_type": "execute_result",
          "data": {
            "text/plain": [
              "<All keys matched successfully>"
            ]
          },
          "metadata": {
            "tags": []
          },
          "execution_count": 105
        }
      ]
    },
    {
      "cell_type": "code",
      "metadata": {
        "id": "etIDU4IubZNy",
        "colab_type": "code",
        "colab": {
          "base_uri": "https://localhost:8080/",
          "height": 107
        },
        "outputId": "80ec682b-3bd7-4c92-f19b-b4e96967c0ac"
      },
      "source": [
        "cls = resNet18.fc\n",
        "cls"
      ],
      "execution_count": null,
      "outputs": [
        {
          "output_type": "execute_result",
          "data": {
            "text/plain": [
              "Sequential(\n",
              "  (0): Linear(in_features=512, out_features=480, bias=True)\n",
              "  (1): ReLU(inplace=True)\n",
              "  (2): Linear(in_features=480, out_features=7, bias=True)\n",
              ")"
            ]
          },
          "metadata": {
            "tags": []
          },
          "execution_count": 106
        }
      ]
    },
    {
      "cell_type": "code",
      "metadata": {
        "colab_type": "code",
        "id": "zDyJphIwXy5K",
        "colab": {
          "base_uri": "https://localhost:8080/",
          "height": 1000
        },
        "outputId": "60296832-3499-4b50-9fcf-5297f9b3c85f"
      },
      "source": [
        "resNet18 = torch.nn.Sequential(*(list(resNet18.children())[:-1]))\n",
        "resNet18.to(device)"
      ],
      "execution_count": null,
      "outputs": [
        {
          "output_type": "execute_result",
          "data": {
            "text/plain": [
              "Sequential(\n",
              "  (0): Conv2d(3, 64, kernel_size=(7, 7), stride=(2, 2), padding=(3, 3), bias=False)\n",
              "  (1): BatchNorm2d(64, eps=1e-05, momentum=0.1, affine=True, track_running_stats=True)\n",
              "  (2): ReLU(inplace=True)\n",
              "  (3): MaxPool2d(kernel_size=3, stride=2, padding=1, dilation=1, ceil_mode=False)\n",
              "  (4): Sequential(\n",
              "    (0): BasicBlock(\n",
              "      (conv1): Conv2d(64, 64, kernel_size=(3, 3), stride=(1, 1), padding=(1, 1), bias=False)\n",
              "      (bn1): BatchNorm2d(64, eps=1e-05, momentum=0.1, affine=True, track_running_stats=True)\n",
              "      (relu): ReLU(inplace=True)\n",
              "      (conv2): Conv2d(64, 64, kernel_size=(3, 3), stride=(1, 1), padding=(1, 1), bias=False)\n",
              "      (bn2): BatchNorm2d(64, eps=1e-05, momentum=0.1, affine=True, track_running_stats=True)\n",
              "    )\n",
              "    (1): BasicBlock(\n",
              "      (conv1): Conv2d(64, 64, kernel_size=(3, 3), stride=(1, 1), padding=(1, 1), bias=False)\n",
              "      (bn1): BatchNorm2d(64, eps=1e-05, momentum=0.1, affine=True, track_running_stats=True)\n",
              "      (relu): ReLU(inplace=True)\n",
              "      (conv2): Conv2d(64, 64, kernel_size=(3, 3), stride=(1, 1), padding=(1, 1), bias=False)\n",
              "      (bn2): BatchNorm2d(64, eps=1e-05, momentum=0.1, affine=True, track_running_stats=True)\n",
              "    )\n",
              "  )\n",
              "  (5): Sequential(\n",
              "    (0): BasicBlock(\n",
              "      (conv1): Conv2d(64, 128, kernel_size=(3, 3), stride=(2, 2), padding=(1, 1), bias=False)\n",
              "      (bn1): BatchNorm2d(128, eps=1e-05, momentum=0.1, affine=True, track_running_stats=True)\n",
              "      (relu): ReLU(inplace=True)\n",
              "      (conv2): Conv2d(128, 128, kernel_size=(3, 3), stride=(1, 1), padding=(1, 1), bias=False)\n",
              "      (bn2): BatchNorm2d(128, eps=1e-05, momentum=0.1, affine=True, track_running_stats=True)\n",
              "      (downsample): Sequential(\n",
              "        (0): Conv2d(64, 128, kernel_size=(1, 1), stride=(2, 2), bias=False)\n",
              "        (1): BatchNorm2d(128, eps=1e-05, momentum=0.1, affine=True, track_running_stats=True)\n",
              "      )\n",
              "    )\n",
              "    (1): BasicBlock(\n",
              "      (conv1): Conv2d(128, 128, kernel_size=(3, 3), stride=(1, 1), padding=(1, 1), bias=False)\n",
              "      (bn1): BatchNorm2d(128, eps=1e-05, momentum=0.1, affine=True, track_running_stats=True)\n",
              "      (relu): ReLU(inplace=True)\n",
              "      (conv2): Conv2d(128, 128, kernel_size=(3, 3), stride=(1, 1), padding=(1, 1), bias=False)\n",
              "      (bn2): BatchNorm2d(128, eps=1e-05, momentum=0.1, affine=True, track_running_stats=True)\n",
              "    )\n",
              "  )\n",
              "  (6): Sequential(\n",
              "    (0): BasicBlock(\n",
              "      (conv1): Conv2d(128, 256, kernel_size=(3, 3), stride=(2, 2), padding=(1, 1), bias=False)\n",
              "      (bn1): BatchNorm2d(256, eps=1e-05, momentum=0.1, affine=True, track_running_stats=True)\n",
              "      (relu): ReLU(inplace=True)\n",
              "      (conv2): Conv2d(256, 256, kernel_size=(3, 3), stride=(1, 1), padding=(1, 1), bias=False)\n",
              "      (bn2): BatchNorm2d(256, eps=1e-05, momentum=0.1, affine=True, track_running_stats=True)\n",
              "      (downsample): Sequential(\n",
              "        (0): Conv2d(128, 256, kernel_size=(1, 1), stride=(2, 2), bias=False)\n",
              "        (1): BatchNorm2d(256, eps=1e-05, momentum=0.1, affine=True, track_running_stats=True)\n",
              "      )\n",
              "    )\n",
              "    (1): BasicBlock(\n",
              "      (conv1): Conv2d(256, 256, kernel_size=(3, 3), stride=(1, 1), padding=(1, 1), bias=False)\n",
              "      (bn1): BatchNorm2d(256, eps=1e-05, momentum=0.1, affine=True, track_running_stats=True)\n",
              "      (relu): ReLU(inplace=True)\n",
              "      (conv2): Conv2d(256, 256, kernel_size=(3, 3), stride=(1, 1), padding=(1, 1), bias=False)\n",
              "      (bn2): BatchNorm2d(256, eps=1e-05, momentum=0.1, affine=True, track_running_stats=True)\n",
              "    )\n",
              "  )\n",
              "  (7): Sequential(\n",
              "    (0): BasicBlock(\n",
              "      (conv1): Conv2d(256, 512, kernel_size=(3, 3), stride=(2, 2), padding=(1, 1), bias=False)\n",
              "      (bn1): BatchNorm2d(512, eps=1e-05, momentum=0.1, affine=True, track_running_stats=True)\n",
              "      (relu): ReLU(inplace=True)\n",
              "      (conv2): Conv2d(512, 512, kernel_size=(3, 3), stride=(1, 1), padding=(1, 1), bias=False)\n",
              "      (bn2): BatchNorm2d(512, eps=1e-05, momentum=0.1, affine=True, track_running_stats=True)\n",
              "      (downsample): Sequential(\n",
              "        (0): Conv2d(256, 512, kernel_size=(1, 1), stride=(2, 2), bias=False)\n",
              "        (1): BatchNorm2d(512, eps=1e-05, momentum=0.1, affine=True, track_running_stats=True)\n",
              "      )\n",
              "    )\n",
              "    (1): BasicBlock(\n",
              "      (conv1): Conv2d(512, 512, kernel_size=(3, 3), stride=(1, 1), padding=(1, 1), bias=False)\n",
              "      (bn1): BatchNorm2d(512, eps=1e-05, momentum=0.1, affine=True, track_running_stats=True)\n",
              "      (relu): ReLU(inplace=True)\n",
              "      (conv2): Conv2d(512, 512, kernel_size=(3, 3), stride=(1, 1), padding=(1, 1), bias=False)\n",
              "      (bn2): BatchNorm2d(512, eps=1e-05, momentum=0.1, affine=True, track_running_stats=True)\n",
              "    )\n",
              "  )\n",
              "  (8): AdaptiveAvgPool2d(output_size=(1, 1))\n",
              ")"
            ]
          },
          "metadata": {
            "tags": []
          },
          "execution_count": 107
        }
      ]
    },
    {
      "cell_type": "code",
      "metadata": {
        "colab_type": "code",
        "id": "zsq_u8etXy5O",
        "colab": {}
      },
      "source": [
        "class DACNN(nn.Module):\n",
        "    def __init__(self):\n",
        "        super().__init__()\n",
        "        self.resNet18 = resNet18\n",
        "        self.label_predictor = cls\n",
        "        self.softMax = nn.Sequential(nn.LogSoftmax(dim=1))\n",
        "        self.domain_classifier = nn.Sequential(\n",
        "            nn.Linear(512, 256), nn.BatchNorm1d(256),\n",
        "            nn.ReLU(True),\n",
        "            nn.Linear(256, 128), nn.BatchNorm1d(128),\n",
        "            nn.ReLU(True),\n",
        "            nn.Linear(128, 64), nn.BatchNorm1d(64),\n",
        "            nn.ReLU(True),\n",
        "            nn.Linear(64, 2),\n",
        "            nn.LogSoftmax(dim=1),\n",
        "        )\n",
        "\n",
        "    def forward(self, x, grl_lambda=1.0):\n",
        "        # Handle single-channel input by expanding (repeating) the singleton dimention\n",
        "        x = x.expand(x.data.shape[0], 3, image_size, image_size)\n",
        "\n",
        "        features = self.resNet18(x)\n",
        "        features = features.view(-1, 512)\n",
        "        \n",
        "        reverse_features = GradientReversalFn.apply(features, grl_lambda)\n",
        "        \n",
        "        features = self.label_predictor(features)\n",
        "        class_pred = self.softMax(features)\n",
        "\n",
        "        domain_pred = self.domain_classifier(reverse_features)\n",
        "        \n",
        "        return class_pred, domain_pred"
      ],
      "execution_count": null,
      "outputs": []
    },
    {
      "cell_type": "code",
      "metadata": {
        "colab_type": "code",
        "id": "M7CcDlohXy5T",
        "colab": {
          "base_uri": "https://localhost:8080/",
          "height": 323
        },
        "outputId": "2a90a315-caf9-445e-cdf6-aa721bf3d0f8"
      },
      "source": [
        "model = DACNN()\n",
        "model.to(device)\n",
        "\n",
        "x0_s, y0_s = next(iter(west_loader_tr))\n",
        "x0_t, y0_t = next(iter(pk_loader))\n",
        "\n",
        "print('source domain: ', x0_s.shape, y0_s.shape)\n",
        "print('target domain: ', x0_t.shape, y0_t.shape)\n",
        "\n",
        "model(x0_s.to(device))\n",
        "model(x0_t.to(device))"
      ],
      "execution_count": null,
      "outputs": [
        {
          "output_type": "stream",
          "text": [
            "source domain:  torch.Size([5, 3, 224, 224]) torch.Size([5])\n",
            "target domain:  torch.Size([5, 3, 224, 224]) torch.Size([5])\n"
          ],
          "name": "stdout"
        },
        {
          "output_type": "execute_result",
          "data": {
            "text/plain": [
              "(tensor([[-1.5123e+01, -1.2982e+01, -1.1056e+01, -4.1008e-05, -1.3832e+01,\n",
              "          -1.0727e+01, -1.5121e+01],\n",
              "         [-1.7530e+01, -1.3127e+01, -1.7194e+01, -5.0354e-04, -7.7206e+00,\n",
              "          -9.7550e+00, -1.6851e+01],\n",
              "         [-9.1643e+00, -1.4554e+01, -1.1480e+01, -7.7185e+00, -7.4664e+00,\n",
              "          -1.5537e+01, -1.1330e-03],\n",
              "         [-3.5343e+00, -3.5378e-01, -6.5834e+00, -2.0097e+00, -2.2381e+00,\n",
              "          -4.1130e+00, -4.5694e+00],\n",
              "         [-8.1005e+00, -6.6850e+00, -6.1562e+00, -6.1273e+00, -6.1823e+00,\n",
              "          -9.3894e+00, -8.0371e-03]], device='cuda:0',\n",
              "        grad_fn=<LogSoftmaxBackward>), tensor([[-0.6691, -0.7178],\n",
              "         [-0.8947, -0.5255],\n",
              "         [-0.7799, -0.6133],\n",
              "         [-0.7270, -0.6604],\n",
              "         [-1.0610, -0.4248]], device='cuda:0', grad_fn=<LogSoftmaxBackward>))"
            ]
          },
          "metadata": {
            "tags": []
          },
          "execution_count": 109
        }
      ]
    },
    {
      "cell_type": "code",
      "metadata": {
        "id": "aHlqpT3whPHH",
        "colab_type": "code",
        "colab": {
          "base_uri": "https://localhost:8080/",
          "height": 1000
        },
        "outputId": "dd2c0ae1-ca8b-4b38-d4e3-dad4e6873df1"
      },
      "source": [
        "model"
      ],
      "execution_count": null,
      "outputs": [
        {
          "output_type": "execute_result",
          "data": {
            "text/plain": [
              "DACNN(\n",
              "  (resNet18): Sequential(\n",
              "    (0): Conv2d(3, 64, kernel_size=(7, 7), stride=(2, 2), padding=(3, 3), bias=False)\n",
              "    (1): BatchNorm2d(64, eps=1e-05, momentum=0.1, affine=True, track_running_stats=True)\n",
              "    (2): ReLU(inplace=True)\n",
              "    (3): MaxPool2d(kernel_size=3, stride=2, padding=1, dilation=1, ceil_mode=False)\n",
              "    (4): Sequential(\n",
              "      (0): BasicBlock(\n",
              "        (conv1): Conv2d(64, 64, kernel_size=(3, 3), stride=(1, 1), padding=(1, 1), bias=False)\n",
              "        (bn1): BatchNorm2d(64, eps=1e-05, momentum=0.1, affine=True, track_running_stats=True)\n",
              "        (relu): ReLU(inplace=True)\n",
              "        (conv2): Conv2d(64, 64, kernel_size=(3, 3), stride=(1, 1), padding=(1, 1), bias=False)\n",
              "        (bn2): BatchNorm2d(64, eps=1e-05, momentum=0.1, affine=True, track_running_stats=True)\n",
              "      )\n",
              "      (1): BasicBlock(\n",
              "        (conv1): Conv2d(64, 64, kernel_size=(3, 3), stride=(1, 1), padding=(1, 1), bias=False)\n",
              "        (bn1): BatchNorm2d(64, eps=1e-05, momentum=0.1, affine=True, track_running_stats=True)\n",
              "        (relu): ReLU(inplace=True)\n",
              "        (conv2): Conv2d(64, 64, kernel_size=(3, 3), stride=(1, 1), padding=(1, 1), bias=False)\n",
              "        (bn2): BatchNorm2d(64, eps=1e-05, momentum=0.1, affine=True, track_running_stats=True)\n",
              "      )\n",
              "    )\n",
              "    (5): Sequential(\n",
              "      (0): BasicBlock(\n",
              "        (conv1): Conv2d(64, 128, kernel_size=(3, 3), stride=(2, 2), padding=(1, 1), bias=False)\n",
              "        (bn1): BatchNorm2d(128, eps=1e-05, momentum=0.1, affine=True, track_running_stats=True)\n",
              "        (relu): ReLU(inplace=True)\n",
              "        (conv2): Conv2d(128, 128, kernel_size=(3, 3), stride=(1, 1), padding=(1, 1), bias=False)\n",
              "        (bn2): BatchNorm2d(128, eps=1e-05, momentum=0.1, affine=True, track_running_stats=True)\n",
              "        (downsample): Sequential(\n",
              "          (0): Conv2d(64, 128, kernel_size=(1, 1), stride=(2, 2), bias=False)\n",
              "          (1): BatchNorm2d(128, eps=1e-05, momentum=0.1, affine=True, track_running_stats=True)\n",
              "        )\n",
              "      )\n",
              "      (1): BasicBlock(\n",
              "        (conv1): Conv2d(128, 128, kernel_size=(3, 3), stride=(1, 1), padding=(1, 1), bias=False)\n",
              "        (bn1): BatchNorm2d(128, eps=1e-05, momentum=0.1, affine=True, track_running_stats=True)\n",
              "        (relu): ReLU(inplace=True)\n",
              "        (conv2): Conv2d(128, 128, kernel_size=(3, 3), stride=(1, 1), padding=(1, 1), bias=False)\n",
              "        (bn2): BatchNorm2d(128, eps=1e-05, momentum=0.1, affine=True, track_running_stats=True)\n",
              "      )\n",
              "    )\n",
              "    (6): Sequential(\n",
              "      (0): BasicBlock(\n",
              "        (conv1): Conv2d(128, 256, kernel_size=(3, 3), stride=(2, 2), padding=(1, 1), bias=False)\n",
              "        (bn1): BatchNorm2d(256, eps=1e-05, momentum=0.1, affine=True, track_running_stats=True)\n",
              "        (relu): ReLU(inplace=True)\n",
              "        (conv2): Conv2d(256, 256, kernel_size=(3, 3), stride=(1, 1), padding=(1, 1), bias=False)\n",
              "        (bn2): BatchNorm2d(256, eps=1e-05, momentum=0.1, affine=True, track_running_stats=True)\n",
              "        (downsample): Sequential(\n",
              "          (0): Conv2d(128, 256, kernel_size=(1, 1), stride=(2, 2), bias=False)\n",
              "          (1): BatchNorm2d(256, eps=1e-05, momentum=0.1, affine=True, track_running_stats=True)\n",
              "        )\n",
              "      )\n",
              "      (1): BasicBlock(\n",
              "        (conv1): Conv2d(256, 256, kernel_size=(3, 3), stride=(1, 1), padding=(1, 1), bias=False)\n",
              "        (bn1): BatchNorm2d(256, eps=1e-05, momentum=0.1, affine=True, track_running_stats=True)\n",
              "        (relu): ReLU(inplace=True)\n",
              "        (conv2): Conv2d(256, 256, kernel_size=(3, 3), stride=(1, 1), padding=(1, 1), bias=False)\n",
              "        (bn2): BatchNorm2d(256, eps=1e-05, momentum=0.1, affine=True, track_running_stats=True)\n",
              "      )\n",
              "    )\n",
              "    (7): Sequential(\n",
              "      (0): BasicBlock(\n",
              "        (conv1): Conv2d(256, 512, kernel_size=(3, 3), stride=(2, 2), padding=(1, 1), bias=False)\n",
              "        (bn1): BatchNorm2d(512, eps=1e-05, momentum=0.1, affine=True, track_running_stats=True)\n",
              "        (relu): ReLU(inplace=True)\n",
              "        (conv2): Conv2d(512, 512, kernel_size=(3, 3), stride=(1, 1), padding=(1, 1), bias=False)\n",
              "        (bn2): BatchNorm2d(512, eps=1e-05, momentum=0.1, affine=True, track_running_stats=True)\n",
              "        (downsample): Sequential(\n",
              "          (0): Conv2d(256, 512, kernel_size=(1, 1), stride=(2, 2), bias=False)\n",
              "          (1): BatchNorm2d(512, eps=1e-05, momentum=0.1, affine=True, track_running_stats=True)\n",
              "        )\n",
              "      )\n",
              "      (1): BasicBlock(\n",
              "        (conv1): Conv2d(512, 512, kernel_size=(3, 3), stride=(1, 1), padding=(1, 1), bias=False)\n",
              "        (bn1): BatchNorm2d(512, eps=1e-05, momentum=0.1, affine=True, track_running_stats=True)\n",
              "        (relu): ReLU(inplace=True)\n",
              "        (conv2): Conv2d(512, 512, kernel_size=(3, 3), stride=(1, 1), padding=(1, 1), bias=False)\n",
              "        (bn2): BatchNorm2d(512, eps=1e-05, momentum=0.1, affine=True, track_running_stats=True)\n",
              "      )\n",
              "    )\n",
              "    (8): AdaptiveAvgPool2d(output_size=(1, 1))\n",
              "  )\n",
              "  (label_predictor): Sequential(\n",
              "    (0): Linear(in_features=512, out_features=480, bias=True)\n",
              "    (1): ReLU(inplace=True)\n",
              "    (2): Linear(in_features=480, out_features=7, bias=True)\n",
              "  )\n",
              "  (softMax): Sequential(\n",
              "    (0): LogSoftmax()\n",
              "  )\n",
              "  (domain_classifier): Sequential(\n",
              "    (0): Linear(in_features=512, out_features=256, bias=True)\n",
              "    (1): BatchNorm1d(256, eps=1e-05, momentum=0.1, affine=True, track_running_stats=True)\n",
              "    (2): ReLU(inplace=True)\n",
              "    (3): Linear(in_features=256, out_features=128, bias=True)\n",
              "    (4): BatchNorm1d(128, eps=1e-05, momentum=0.1, affine=True, track_running_stats=True)\n",
              "    (5): ReLU(inplace=True)\n",
              "    (6): Linear(in_features=128, out_features=64, bias=True)\n",
              "    (7): BatchNorm1d(64, eps=1e-05, momentum=0.1, affine=True, track_running_stats=True)\n",
              "    (8): ReLU(inplace=True)\n",
              "    (9): Linear(in_features=64, out_features=2, bias=True)\n",
              "    (10): LogSoftmax()\n",
              "  )\n",
              ")"
            ]
          },
          "metadata": {
            "tags": []
          },
          "execution_count": 76
        }
      ]
    },
    {
      "cell_type": "markdown",
      "metadata": {
        "id": "oRWLqoACQRGY",
        "colab_type": "text"
      },
      "source": [
        "# **Training**"
      ]
    },
    {
      "cell_type": "code",
      "metadata": {
        "id": "UJS3mvOfQR9h",
        "colab_type": "code",
        "colab": {}
      },
      "source": [
        "lr = 1e-3\n",
        "\n",
        "# Setup optimizer as usual\n",
        "model = DACNN()\n",
        "\n",
        "for param in model.parameters():\n",
        "    param.require_grad = True\n",
        "\n",
        "model.to(device)\n",
        "optimizer = optim.Adam(model.parameters(), lr)\n",
        "\n",
        "# Two losses functions this time\n",
        "loss_fn_class = torch.nn.NLLLoss()\n",
        "loss_fn_domain = torch.nn.NLLLoss()"
      ],
      "execution_count": null,
      "outputs": []
    },
    {
      "cell_type": "code",
      "metadata": {
        "id": "-Ddrq_L4QUO7",
        "colab_type": "code",
        "colab": {
          "base_uri": "https://localhost:8080/",
          "height": 35
        },
        "outputId": "924b385d-36b3-4058-aedf-8ad20038cda2"
      },
      "source": [
        "dl_source = west_loader_tr\n",
        "dl_target = pk_loader\n",
        "\n",
        "# We'll train the same number of batches from both datasets\n",
        "max_batches = min(len(dl_source), len(dl_target))\n",
        "print('Max number of batches to run training: ', max_batches)"
      ],
      "execution_count": null,
      "outputs": [
        {
          "output_type": "stream",
          "text": [
            "Max number of batches to run training:  595\n"
          ],
          "name": "stdout"
        }
      ]
    },
    {
      "cell_type": "code",
      "metadata": {
        "id": "BMdQey74pMUb",
        "colab_type": "code",
        "colab": {
          "base_uri": "https://localhost:8080/",
          "height": 1000
        },
        "outputId": "1a6aef12-1af3-4ef3-9528-b7f415b62e15"
      },
      "source": [
        "model.load_state_dict(torch.load(resnet18_model_path))\n",
        "model.to(device)"
      ],
      "execution_count": null,
      "outputs": [
        {
          "output_type": "execute_result",
          "data": {
            "text/plain": [
              "DACNN(\n",
              "  (resNet18): Sequential(\n",
              "    (0): Conv2d(3, 64, kernel_size=(7, 7), stride=(2, 2), padding=(3, 3), bias=False)\n",
              "    (1): BatchNorm2d(64, eps=1e-05, momentum=0.1, affine=True, track_running_stats=True)\n",
              "    (2): ReLU(inplace=True)\n",
              "    (3): MaxPool2d(kernel_size=3, stride=2, padding=1, dilation=1, ceil_mode=False)\n",
              "    (4): Sequential(\n",
              "      (0): BasicBlock(\n",
              "        (conv1): Conv2d(64, 64, kernel_size=(3, 3), stride=(1, 1), padding=(1, 1), bias=False)\n",
              "        (bn1): BatchNorm2d(64, eps=1e-05, momentum=0.1, affine=True, track_running_stats=True)\n",
              "        (relu): ReLU(inplace=True)\n",
              "        (conv2): Conv2d(64, 64, kernel_size=(3, 3), stride=(1, 1), padding=(1, 1), bias=False)\n",
              "        (bn2): BatchNorm2d(64, eps=1e-05, momentum=0.1, affine=True, track_running_stats=True)\n",
              "      )\n",
              "      (1): BasicBlock(\n",
              "        (conv1): Conv2d(64, 64, kernel_size=(3, 3), stride=(1, 1), padding=(1, 1), bias=False)\n",
              "        (bn1): BatchNorm2d(64, eps=1e-05, momentum=0.1, affine=True, track_running_stats=True)\n",
              "        (relu): ReLU(inplace=True)\n",
              "        (conv2): Conv2d(64, 64, kernel_size=(3, 3), stride=(1, 1), padding=(1, 1), bias=False)\n",
              "        (bn2): BatchNorm2d(64, eps=1e-05, momentum=0.1, affine=True, track_running_stats=True)\n",
              "      )\n",
              "    )\n",
              "    (5): Sequential(\n",
              "      (0): BasicBlock(\n",
              "        (conv1): Conv2d(64, 128, kernel_size=(3, 3), stride=(2, 2), padding=(1, 1), bias=False)\n",
              "        (bn1): BatchNorm2d(128, eps=1e-05, momentum=0.1, affine=True, track_running_stats=True)\n",
              "        (relu): ReLU(inplace=True)\n",
              "        (conv2): Conv2d(128, 128, kernel_size=(3, 3), stride=(1, 1), padding=(1, 1), bias=False)\n",
              "        (bn2): BatchNorm2d(128, eps=1e-05, momentum=0.1, affine=True, track_running_stats=True)\n",
              "        (downsample): Sequential(\n",
              "          (0): Conv2d(64, 128, kernel_size=(1, 1), stride=(2, 2), bias=False)\n",
              "          (1): BatchNorm2d(128, eps=1e-05, momentum=0.1, affine=True, track_running_stats=True)\n",
              "        )\n",
              "      )\n",
              "      (1): BasicBlock(\n",
              "        (conv1): Conv2d(128, 128, kernel_size=(3, 3), stride=(1, 1), padding=(1, 1), bias=False)\n",
              "        (bn1): BatchNorm2d(128, eps=1e-05, momentum=0.1, affine=True, track_running_stats=True)\n",
              "        (relu): ReLU(inplace=True)\n",
              "        (conv2): Conv2d(128, 128, kernel_size=(3, 3), stride=(1, 1), padding=(1, 1), bias=False)\n",
              "        (bn2): BatchNorm2d(128, eps=1e-05, momentum=0.1, affine=True, track_running_stats=True)\n",
              "      )\n",
              "    )\n",
              "    (6): Sequential(\n",
              "      (0): BasicBlock(\n",
              "        (conv1): Conv2d(128, 256, kernel_size=(3, 3), stride=(2, 2), padding=(1, 1), bias=False)\n",
              "        (bn1): BatchNorm2d(256, eps=1e-05, momentum=0.1, affine=True, track_running_stats=True)\n",
              "        (relu): ReLU(inplace=True)\n",
              "        (conv2): Conv2d(256, 256, kernel_size=(3, 3), stride=(1, 1), padding=(1, 1), bias=False)\n",
              "        (bn2): BatchNorm2d(256, eps=1e-05, momentum=0.1, affine=True, track_running_stats=True)\n",
              "        (downsample): Sequential(\n",
              "          (0): Conv2d(128, 256, kernel_size=(1, 1), stride=(2, 2), bias=False)\n",
              "          (1): BatchNorm2d(256, eps=1e-05, momentum=0.1, affine=True, track_running_stats=True)\n",
              "        )\n",
              "      )\n",
              "      (1): BasicBlock(\n",
              "        (conv1): Conv2d(256, 256, kernel_size=(3, 3), stride=(1, 1), padding=(1, 1), bias=False)\n",
              "        (bn1): BatchNorm2d(256, eps=1e-05, momentum=0.1, affine=True, track_running_stats=True)\n",
              "        (relu): ReLU(inplace=True)\n",
              "        (conv2): Conv2d(256, 256, kernel_size=(3, 3), stride=(1, 1), padding=(1, 1), bias=False)\n",
              "        (bn2): BatchNorm2d(256, eps=1e-05, momentum=0.1, affine=True, track_running_stats=True)\n",
              "      )\n",
              "    )\n",
              "    (7): Sequential(\n",
              "      (0): BasicBlock(\n",
              "        (conv1): Conv2d(256, 512, kernel_size=(3, 3), stride=(2, 2), padding=(1, 1), bias=False)\n",
              "        (bn1): BatchNorm2d(512, eps=1e-05, momentum=0.1, affine=True, track_running_stats=True)\n",
              "        (relu): ReLU(inplace=True)\n",
              "        (conv2): Conv2d(512, 512, kernel_size=(3, 3), stride=(1, 1), padding=(1, 1), bias=False)\n",
              "        (bn2): BatchNorm2d(512, eps=1e-05, momentum=0.1, affine=True, track_running_stats=True)\n",
              "        (downsample): Sequential(\n",
              "          (0): Conv2d(256, 512, kernel_size=(1, 1), stride=(2, 2), bias=False)\n",
              "          (1): BatchNorm2d(512, eps=1e-05, momentum=0.1, affine=True, track_running_stats=True)\n",
              "        )\n",
              "      )\n",
              "      (1): BasicBlock(\n",
              "        (conv1): Conv2d(512, 512, kernel_size=(3, 3), stride=(1, 1), padding=(1, 1), bias=False)\n",
              "        (bn1): BatchNorm2d(512, eps=1e-05, momentum=0.1, affine=True, track_running_stats=True)\n",
              "        (relu): ReLU(inplace=True)\n",
              "        (conv2): Conv2d(512, 512, kernel_size=(3, 3), stride=(1, 1), padding=(1, 1), bias=False)\n",
              "        (bn2): BatchNorm2d(512, eps=1e-05, momentum=0.1, affine=True, track_running_stats=True)\n",
              "      )\n",
              "    )\n",
              "    (8): AdaptiveAvgPool2d(output_size=(1, 1))\n",
              "  )\n",
              "  (label_predictor): Sequential(\n",
              "    (0): Linear(in_features=512, out_features=480, bias=True)\n",
              "    (1): ReLU(inplace=True)\n",
              "    (2): Linear(in_features=480, out_features=7, bias=True)\n",
              "  )\n",
              "  (softMax): Sequential(\n",
              "    (0): LogSoftmax()\n",
              "  )\n",
              "  (domain_classifier): Sequential(\n",
              "    (0): Linear(in_features=512, out_features=256, bias=True)\n",
              "    (1): BatchNorm1d(256, eps=1e-05, momentum=0.1, affine=True, track_running_stats=True)\n",
              "    (2): ReLU(inplace=True)\n",
              "    (3): Linear(in_features=256, out_features=128, bias=True)\n",
              "    (4): BatchNorm1d(128, eps=1e-05, momentum=0.1, affine=True, track_running_stats=True)\n",
              "    (5): ReLU(inplace=True)\n",
              "    (6): Linear(in_features=128, out_features=64, bias=True)\n",
              "    (7): BatchNorm1d(64, eps=1e-05, momentum=0.1, affine=True, track_running_stats=True)\n",
              "    (8): ReLU(inplace=True)\n",
              "    (9): Linear(in_features=64, out_features=2, bias=True)\n",
              "    (10): LogSoftmax()\n",
              "  )\n",
              ")"
            ]
          },
          "metadata": {
            "tags": []
          },
          "execution_count": 112
        }
      ]
    },
    {
      "cell_type": "code",
      "metadata": {
        "id": "mpRCosuwQXoa",
        "colab_type": "code",
        "colab": {
          "base_uri": "https://localhost:8080/",
          "height": 1000
        },
        "outputId": "0c6e93c3-000e-4dbf-dff6-3b29a6d31077"
      },
      "source": [
        "n_epochs = 100\n",
        "for epoch_idx in range(n_epochs):\n",
        "    st_time = time.time()\n",
        "    print(f'Epoch {epoch_idx+1:04d} / {n_epochs:04d}', end='\\n=================\\n')\n",
        "    dl_source_iter = iter(dl_source)\n",
        "    dl_target_iter = iter(dl_target)\n",
        "\n",
        "    for batch_idx in range(max_batches):\n",
        "        optimizer.zero_grad()\n",
        "        # Training progress and GRL lambda\n",
        "        p = float(batch_idx + epoch_idx * max_batches) / (n_epochs * max_batches)\n",
        "        grl_lambda = 2. / (1. + np.exp(-10 * p)) - 1\n",
        "\n",
        "        # Train on source domain\n",
        "        X_s, y_s = next(dl_source_iter)\n",
        "        X_s = X_s.to(device)\n",
        "        y_s = y_s.to(device)\n",
        "        y_s_domain = torch.zeros(batch_size, dtype=torch.long) # generate source domain labels\n",
        "        y_s_domain = y_s_domain.to(device)\n",
        "\n",
        "        class_pred, domain_pred = model(X_s, grl_lambda)\n",
        "        loss_s_label = loss_fn_class(class_pred, y_s)\n",
        "        loss_s_domain = loss_fn_domain(domain_pred, y_s_domain)\n",
        "\n",
        "        # Train on target domain\n",
        "        X_t, _ = next(dl_target_iter) # ignore target domain class labels!\n",
        "        X_t = X_t.to(device)\n",
        "        y_t_domain = torch.ones(batch_size, dtype=torch.long) # generate target domain labels\n",
        "        y_t_domain = y_t_domain.to(device)\n",
        "\n",
        "        _, domain_pred = model(X_t, grl_lambda)\n",
        "        loss_t_domain = loss_fn_domain(domain_pred, y_t_domain)\n",
        "        \n",
        "        loss = loss_t_domain + loss_s_domain + loss_s_label\n",
        "        loss.backward()\n",
        "        optimizer.step()\n",
        "        \n",
        "    print(f'class_loss: {loss_s_label.item():.4f} ' f's_domain_loss: {loss_s_domain.item():.4f} '\n",
        "          f't_domain_loss: {loss_t_domain.item():.4f} ' f'grl_lambda: {grl_lambda:.3f} '\n",
        "          )\n",
        "    print('Time Taken: ', (time.time()-st_time)/60, 'minutes')\n",
        "    torch.save(model.state_dict(), resnet18_model_path)"
      ],
      "execution_count": null,
      "outputs": [
        {
          "output_type": "stream",
          "text": [
            "Epoch 0001 / 0100\n",
            "=================\n",
            "class_loss: 0.5571 s_domain_loss: 0.8210 t_domain_loss: 0.6077 grl_lambda: 0.050 \n",
            "Time Taken:  1.3404035607973734 minutes\n",
            "Epoch 0002 / 0100\n",
            "=================\n",
            "class_loss: 1.1324 s_domain_loss: 0.8387 t_domain_loss: 0.7219 grl_lambda: 0.100 \n",
            "Time Taken:  1.337103796005249 minutes\n",
            "Epoch 0003 / 0100\n",
            "=================\n",
            "class_loss: 0.3421 s_domain_loss: 0.6955 t_domain_loss: 0.7664 grl_lambda: 0.149 \n",
            "Time Taken:  1.3435718735059103 minutes\n",
            "Epoch 0004 / 0100\n",
            "=================\n",
            "class_loss: 0.4796 s_domain_loss: 0.8402 t_domain_loss: 0.5640 grl_lambda: 0.197 \n",
            "Time Taken:  1.3354942321777343 minutes\n",
            "Epoch 0005 / 0100\n",
            "=================\n",
            "class_loss: 0.6936 s_domain_loss: 0.5675 t_domain_loss: 0.6767 grl_lambda: 0.245 \n",
            "Time Taken:  1.334691826502482 minutes\n",
            "Epoch 0006 / 0100\n",
            "=================\n",
            "class_loss: 0.5305 s_domain_loss: 0.7141 t_domain_loss: 0.7068 grl_lambda: 0.291 \n",
            "Time Taken:  1.3319151878356934 minutes\n",
            "Epoch 0007 / 0100\n",
            "=================\n",
            "class_loss: 0.4674 s_domain_loss: 0.6297 t_domain_loss: 0.7392 grl_lambda: 0.336 \n",
            "Time Taken:  1.3429466207822165 minutes\n",
            "Epoch 0008 / 0100\n",
            "=================\n",
            "class_loss: 0.4793 s_domain_loss: 0.5755 t_domain_loss: 0.8576 grl_lambda: 0.380 \n",
            "Time Taken:  1.334261425336202 minutes\n",
            "Epoch 0009 / 0100\n",
            "=================\n",
            "class_loss: 0.7522 s_domain_loss: 0.6516 t_domain_loss: 0.8258 grl_lambda: 0.422 \n",
            "Time Taken:  1.3355661153793335 minutes\n",
            "Epoch 0010 / 0100\n",
            "=================\n",
            "class_loss: 0.6484 s_domain_loss: 0.7006 t_domain_loss: 0.8212 grl_lambda: 0.462 \n",
            "Time Taken:  1.337030279636383 minutes\n",
            "Epoch 0011 / 0100\n",
            "=================\n",
            "class_loss: 0.5958 s_domain_loss: 0.7844 t_domain_loss: 0.6957 grl_lambda: 0.500 \n",
            "Time Taken:  1.3446582357088726 minutes\n",
            "Epoch 0012 / 0100\n",
            "=================\n",
            "class_loss: 0.8003 s_domain_loss: 0.6738 t_domain_loss: 0.7431 grl_lambda: 0.537 \n",
            "Time Taken:  1.338960055510203 minutes\n",
            "Epoch 0013 / 0100\n",
            "=================\n",
            "class_loss: 0.4200 s_domain_loss: 0.6556 t_domain_loss: 0.7593 grl_lambda: 0.572 \n",
            "Time Taken:  1.3408482352892557 minutes\n",
            "Epoch 0014 / 0100\n",
            "=================\n",
            "class_loss: 1.0385 s_domain_loss: 0.6582 t_domain_loss: 0.5553 grl_lambda: 0.604 \n",
            "Time Taken:  1.3479815165201823 minutes\n",
            "Epoch 0015 / 0100\n",
            "=================\n",
            "class_loss: 0.3538 s_domain_loss: 0.7281 t_domain_loss: 0.6388 grl_lambda: 0.635 \n",
            "Time Taken:  1.345854155222575 minutes\n",
            "Epoch 0016 / 0100\n",
            "=================\n",
            "class_loss: 1.1705 s_domain_loss: 0.8641 t_domain_loss: 0.6582 grl_lambda: 0.664 \n",
            "Time Taken:  1.341663400332133 minutes\n",
            "Epoch 0017 / 0100\n",
            "=================\n",
            "class_loss: 0.6970 s_domain_loss: 0.6903 t_domain_loss: 0.7244 grl_lambda: 0.691 \n",
            "Time Taken:  1.341445791721344 minutes\n",
            "Epoch 0018 / 0100\n",
            "=================\n",
            "class_loss: 0.5630 s_domain_loss: 0.6603 t_domain_loss: 0.6358 grl_lambda: 0.716 \n",
            "Time Taken:  1.3486602107683818 minutes\n",
            "Epoch 0019 / 0100\n",
            "=================\n",
            "class_loss: 0.2456 s_domain_loss: 0.7276 t_domain_loss: 0.6128 grl_lambda: 0.740 \n",
            "Time Taken:  1.3422418554623923 minutes\n",
            "Epoch 0020 / 0100\n",
            "=================\n",
            "class_loss: 1.1575 s_domain_loss: 0.6124 t_domain_loss: 0.6875 grl_lambda: 0.762 \n",
            "Time Taken:  1.3422722935676574 minutes\n",
            "Epoch 0021 / 0100\n",
            "=================\n",
            "class_loss: 0.3084 s_domain_loss: 0.6599 t_domain_loss: 0.6221 grl_lambda: 0.782 \n",
            "Time Taken:  1.3434470534324645 minutes\n",
            "Epoch 0022 / 0100\n",
            "=================\n",
            "class_loss: 0.2418 s_domain_loss: 0.6136 t_domain_loss: 0.7335 grl_lambda: 0.800 \n",
            "Time Taken:  1.349295687675476 minutes\n",
            "Epoch 0023 / 0100\n",
            "=================\n",
            "class_loss: 0.1101 s_domain_loss: 0.7730 t_domain_loss: 0.6743 grl_lambda: 0.818 \n",
            "Time Taken:  1.3360804716746013 minutes\n",
            "Epoch 0024 / 0100\n",
            "=================\n",
            "class_loss: 0.3682 s_domain_loss: 0.7268 t_domain_loss: 0.7212 grl_lambda: 0.834 \n",
            "Time Taken:  1.336343816916148 minutes\n",
            "Epoch 0025 / 0100\n",
            "=================\n",
            "class_loss: 0.0502 s_domain_loss: 0.6631 t_domain_loss: 0.7318 grl_lambda: 0.848 \n",
            "Time Taken:  1.3399054845174154 minutes\n",
            "Epoch 0026 / 0100\n",
            "=================\n",
            "class_loss: 0.2811 s_domain_loss: 0.6837 t_domain_loss: 0.6105 grl_lambda: 0.862 \n",
            "Time Taken:  1.3468319058418274 minutes\n",
            "Epoch 0027 / 0100\n",
            "=================\n",
            "class_loss: 0.2375 s_domain_loss: 0.6733 t_domain_loss: 0.5545 grl_lambda: 0.874 \n",
            "Time Taken:  1.3399008830388388 minutes\n",
            "Epoch 0028 / 0100\n",
            "=================\n",
            "class_loss: 0.8877 s_domain_loss: 0.5945 t_domain_loss: 0.6617 grl_lambda: 0.885 \n",
            "Time Taken:  1.3402318874994914 minutes\n",
            "Epoch 0029 / 0100\n",
            "=================\n",
            "class_loss: 0.0955 s_domain_loss: 0.7195 t_domain_loss: 0.7423 grl_lambda: 0.896 \n",
            "Time Taken:  1.3381784995396933 minutes\n",
            "Epoch 0030 / 0100\n",
            "=================\n",
            "class_loss: 0.0428 s_domain_loss: 0.5533 t_domain_loss: 0.7401 grl_lambda: 0.905 \n",
            "Time Taken:  1.3446895440419515 minutes\n",
            "Epoch 0031 / 0100\n",
            "=================\n",
            "class_loss: 0.0548 s_domain_loss: 0.6611 t_domain_loss: 0.7079 grl_lambda: 0.914 \n",
            "Time Taken:  1.3377532839775086 minutes\n",
            "Epoch 0032 / 0100\n",
            "=================\n",
            "class_loss: 0.6977 s_domain_loss: 0.7027 t_domain_loss: 0.6723 grl_lambda: 0.922 \n",
            "Time Taken:  1.3367995421091716 minutes\n",
            "Epoch 0033 / 0100\n",
            "=================\n",
            "class_loss: 0.1798 s_domain_loss: 0.6359 t_domain_loss: 0.7093 grl_lambda: 0.929 \n",
            "Time Taken:  1.3377026518185933 minutes\n",
            "Epoch 0034 / 0100\n",
            "=================\n",
            "class_loss: 0.1823 s_domain_loss: 0.7116 t_domain_loss: 0.6623 grl_lambda: 0.935 \n",
            "Time Taken:  1.3460171818733215 minutes\n",
            "Epoch 0035 / 0100\n",
            "=================\n",
            "class_loss: 0.1761 s_domain_loss: 0.5929 t_domain_loss: 0.8535 grl_lambda: 0.941 \n",
            "Time Taken:  1.3393073995908102 minutes\n",
            "Epoch 0036 / 0100\n",
            "=================\n",
            "class_loss: 0.0656 s_domain_loss: 0.6413 t_domain_loss: 0.6323 grl_lambda: 0.947 \n",
            "Time Taken:  1.3397585908571878 minutes\n",
            "Epoch 0037 / 0100\n",
            "=================\n",
            "class_loss: 0.3668 s_domain_loss: 0.6777 t_domain_loss: 0.6751 grl_lambda: 0.952 \n",
            "Time Taken:  1.3412348945935568 minutes\n",
            "Epoch 0038 / 0100\n",
            "=================\n",
            "class_loss: 0.6619 s_domain_loss: 0.7978 t_domain_loss: 0.7304 grl_lambda: 0.956 \n",
            "Time Taken:  1.348502508799235 minutes\n",
            "Epoch 0039 / 0100\n",
            "=================\n",
            "class_loss: 0.3380 s_domain_loss: 0.6348 t_domain_loss: 0.6523 grl_lambda: 0.960 \n",
            "Time Taken:  1.3377304871877034 minutes\n",
            "Epoch 0040 / 0100\n",
            "=================\n",
            "class_loss: 0.0196 s_domain_loss: 0.6641 t_domain_loss: 0.7106 grl_lambda: 0.964 \n",
            "Time Taken:  1.3354754130045572 minutes\n",
            "Epoch 0041 / 0100\n",
            "=================\n",
            "class_loss: 0.4303 s_domain_loss: 0.8087 t_domain_loss: 0.6371 grl_lambda: 0.967 \n",
            "Time Taken:  1.3409861087799073 minutes\n",
            "Epoch 0042 / 0100\n",
            "=================\n",
            "class_loss: 0.0635 s_domain_loss: 0.6547 t_domain_loss: 0.6441 grl_lambda: 0.970 \n",
            "Time Taken:  1.3352076888084412 minutes\n",
            "Epoch 0043 / 0100\n",
            "=================\n",
            "class_loss: 0.0877 s_domain_loss: 0.6638 t_domain_loss: 0.6804 grl_lambda: 0.973 \n",
            "Time Taken:  1.3356913288434347 minutes\n",
            "Epoch 0044 / 0100\n",
            "=================\n",
            "class_loss: 0.3565 s_domain_loss: 0.7152 t_domain_loss: 0.6466 grl_lambda: 0.976 \n",
            "Time Taken:  1.335324192047119 minutes\n",
            "Epoch 0045 / 0100\n",
            "=================\n",
            "class_loss: 1.3607 s_domain_loss: 0.7469 t_domain_loss: 0.6959 grl_lambda: 0.978 \n",
            "Time Taken:  1.3442275683085123 minutes\n",
            "Epoch 0046 / 0100\n",
            "=================\n",
            "class_loss: 0.0155 s_domain_loss: 0.6324 t_domain_loss: 0.7122 grl_lambda: 0.980 \n",
            "Time Taken:  1.3299173672993978 minutes\n",
            "Epoch 0047 / 0100\n",
            "=================\n",
            "class_loss: 0.1932 s_domain_loss: 0.6453 t_domain_loss: 0.7113 grl_lambda: 0.982 \n",
            "Time Taken:  1.3299001296361288 minutes\n",
            "Epoch 0048 / 0100\n",
            "=================\n",
            "class_loss: 0.4494 s_domain_loss: 0.7455 t_domain_loss: 0.6537 grl_lambda: 0.984 \n",
            "Time Taken:  1.3269856532414754 minutes\n",
            "Epoch 0049 / 0100\n",
            "=================\n",
            "class_loss: 0.0784 s_domain_loss: 0.6826 t_domain_loss: 0.6975 grl_lambda: 0.985 \n",
            "Time Taken:  1.3378588835398355 minutes\n",
            "Epoch 0050 / 0100\n",
            "=================\n",
            "class_loss: 0.0037 s_domain_loss: 0.6871 t_domain_loss: 0.6570 grl_lambda: 0.987 \n",
            "Time Taken:  1.330207101504008 minutes\n",
            "Epoch 0051 / 0100\n",
            "=================\n",
            "class_loss: 0.6447 s_domain_loss: 0.7035 t_domain_loss: 0.7588 grl_lambda: 0.988 \n",
            "Time Taken:  1.3290674567222596 minutes\n",
            "Epoch 0052 / 0100\n",
            "=================\n",
            "class_loss: 0.3932 s_domain_loss: 0.6384 t_domain_loss: 0.6712 grl_lambda: 0.989 \n",
            "Time Taken:  1.3299769759178162 minutes\n",
            "Epoch 0053 / 0100\n",
            "=================\n",
            "class_loss: 0.3525 s_domain_loss: 0.6930 t_domain_loss: 0.6482 grl_lambda: 0.990 \n",
            "Time Taken:  1.3374796668688456 minutes\n",
            "Epoch 0054 / 0100\n",
            "=================\n",
            "class_loss: 0.0511 s_domain_loss: 0.6966 t_domain_loss: 0.6111 grl_lambda: 0.991 \n",
            "Time Taken:  1.3302517573038737 minutes\n",
            "Epoch 0055 / 0100\n",
            "=================\n",
            "class_loss: 0.2896 s_domain_loss: 0.6901 t_domain_loss: 0.6769 grl_lambda: 0.992 \n",
            "Time Taken:  1.3255147576332091 minutes\n",
            "Epoch 0056 / 0100\n",
            "=================\n",
            "class_loss: 0.0819 s_domain_loss: 0.6650 t_domain_loss: 0.6692 grl_lambda: 0.993 \n",
            "Time Taken:  1.333805294831594 minutes\n",
            "Epoch 0057 / 0100\n",
            "=================\n",
            "class_loss: 0.0278 s_domain_loss: 0.7374 t_domain_loss: 0.6517 grl_lambda: 0.993 \n",
            "Time Taken:  1.3427895506223042 minutes\n",
            "Epoch 0058 / 0100\n",
            "=================\n",
            "class_loss: 0.2077 s_domain_loss: 0.7320 t_domain_loss: 0.6924 grl_lambda: 0.994 \n",
            "Time Taken:  1.3345909317334492 minutes\n",
            "Epoch 0059 / 0100\n",
            "=================\n",
            "class_loss: 0.9312 s_domain_loss: 0.6793 t_domain_loss: 0.7686 grl_lambda: 0.995 \n",
            "Time Taken:  1.3350835720698038 minutes\n",
            "Epoch 0060 / 0100\n",
            "=================\n",
            "class_loss: 0.0599 s_domain_loss: 0.7175 t_domain_loss: 0.6392 grl_lambda: 0.995 \n",
            "Time Taken:  1.3365133682886758 minutes\n",
            "Epoch 0061 / 0100\n",
            "=================\n",
            "class_loss: 0.0470 s_domain_loss: 0.6917 t_domain_loss: 0.7818 grl_lambda: 0.996 \n",
            "Time Taken:  1.3426189462343852 minutes\n",
            "Epoch 0062 / 0100\n",
            "=================\n",
            "class_loss: 0.0043 s_domain_loss: 0.7092 t_domain_loss: 0.7036 grl_lambda: 0.996 \n",
            "Time Taken:  1.3319351514180502 minutes\n",
            "Epoch 0063 / 0100\n",
            "=================\n",
            "class_loss: 0.0209 s_domain_loss: 0.7059 t_domain_loss: 0.7102 grl_lambda: 0.996 \n",
            "Time Taken:  1.3342954874038697 minutes\n",
            "Epoch 0064 / 0100\n",
            "=================\n",
            "class_loss: 0.0070 s_domain_loss: 0.7127 t_domain_loss: 0.7148 grl_lambda: 0.997 \n",
            "Time Taken:  1.3354819019635518 minutes\n",
            "Epoch 0065 / 0100\n",
            "=================\n",
            "class_loss: 0.0033 s_domain_loss: 0.7484 t_domain_loss: 0.6895 grl_lambda: 0.997 \n",
            "Time Taken:  1.3388548294703166 minutes\n",
            "Epoch 0066 / 0100\n",
            "=================\n",
            "class_loss: 0.0043 s_domain_loss: 0.7043 t_domain_loss: 0.7185 grl_lambda: 0.997 \n",
            "Time Taken:  1.3298103570938111 minutes\n",
            "Epoch 0067 / 0100\n",
            "=================\n",
            "class_loss: 0.0075 s_domain_loss: 0.6996 t_domain_loss: 0.7163 grl_lambda: 0.998 \n",
            "Time Taken:  1.3311802903811136 minutes\n",
            "Epoch 0068 / 0100\n",
            "=================\n",
            "class_loss: 0.0643 s_domain_loss: 0.7191 t_domain_loss: 0.6540 grl_lambda: 0.998 \n",
            "Time Taken:  1.3320078690846762 minutes\n",
            "Epoch 0069 / 0100\n",
            "=================\n",
            "class_loss: 0.0182 s_domain_loss: 0.7190 t_domain_loss: 0.6301 grl_lambda: 0.998 \n",
            "Time Taken:  1.333563514550527 minutes\n",
            "Epoch 0070 / 0100\n",
            "=================\n",
            "class_loss: 0.0763 s_domain_loss: 0.6812 t_domain_loss: 0.6630 grl_lambda: 0.998 \n",
            "Time Taken:  1.3265323559443156 minutes\n",
            "Epoch 0071 / 0100\n",
            "=================\n",
            "class_loss: 0.0008 s_domain_loss: 0.7307 t_domain_loss: 0.7672 grl_lambda: 0.998 \n",
            "Time Taken:  1.3299280365308126 minutes\n",
            "Epoch 0072 / 0100\n",
            "=================\n",
            "class_loss: 0.2499 s_domain_loss: 0.6717 t_domain_loss: 0.6216 grl_lambda: 0.999 \n",
            "Time Taken:  1.3376979271570841 minutes\n",
            "Epoch 0073 / 0100\n",
            "=================\n",
            "class_loss: 0.3208 s_domain_loss: 0.7898 t_domain_loss: 0.7339 grl_lambda: 0.999 \n",
            "Time Taken:  1.3318854808807372 minutes\n",
            "Epoch 0074 / 0100\n",
            "=================\n",
            "class_loss: 0.0264 s_domain_loss: 0.7546 t_domain_loss: 0.6739 grl_lambda: 0.999 \n",
            "Time Taken:  1.3303405205408732 minutes\n",
            "Epoch 0075 / 0100\n",
            "=================\n",
            "class_loss: 0.1260 s_domain_loss: 0.6865 t_domain_loss: 0.6896 grl_lambda: 0.999 \n",
            "Time Taken:  1.3290137926737466 minutes\n",
            "Epoch 0076 / 0100\n",
            "=================\n",
            "class_loss: 0.0160 s_domain_loss: 0.6831 t_domain_loss: 0.7431 grl_lambda: 0.999 \n",
            "Time Taken:  1.3400216897328694 minutes\n",
            "Epoch 0077 / 0100\n",
            "=================\n",
            "class_loss: 0.0231 s_domain_loss: 0.7015 t_domain_loss: 0.7276 grl_lambda: 0.999 \n",
            "Time Taken:  1.3178924878438314 minutes\n",
            "Epoch 0078 / 0100\n",
            "=================\n",
            "class_loss: 0.0202 s_domain_loss: 0.6604 t_domain_loss: 0.6480 grl_lambda: 0.999 \n",
            "Time Taken:  1.315756583213806 minutes\n",
            "Epoch 0079 / 0100\n",
            "=================\n",
            "class_loss: 0.0016 s_domain_loss: 0.6826 t_domain_loss: 0.6661 grl_lambda: 0.999 \n",
            "Time Taken:  1.3151073892911276 minutes\n",
            "Epoch 0080 / 0100\n",
            "=================\n",
            "class_loss: 0.0073 s_domain_loss: 0.7160 t_domain_loss: 0.6779 grl_lambda: 0.999 \n",
            "Time Taken:  1.3193382779757181 minutes\n",
            "Epoch 0081 / 0100\n",
            "=================\n",
            "class_loss: 0.0128 s_domain_loss: 0.6783 t_domain_loss: 0.6777 grl_lambda: 0.999 \n",
            "Time Taken:  1.3182511806488038 minutes\n",
            "Epoch 0082 / 0100\n",
            "=================\n",
            "class_loss: 0.0226 s_domain_loss: 0.7002 t_domain_loss: 0.6509 grl_lambda: 0.999 \n",
            "Time Taken:  1.3266072352727254 minutes\n",
            "Epoch 0083 / 0100\n",
            "=================\n",
            "class_loss: 0.3187 s_domain_loss: 0.6892 t_domain_loss: 0.6573 grl_lambda: 1.000 \n",
            "Time Taken:  1.332524267832438 minutes\n",
            "Epoch 0084 / 0100\n",
            "=================\n",
            "class_loss: 0.0007 s_domain_loss: 0.6820 t_domain_loss: 0.6886 grl_lambda: 1.000 \n",
            "Time Taken:  1.3379205306371054 minutes\n",
            "Epoch 0085 / 0100\n",
            "=================\n",
            "class_loss: 0.0203 s_domain_loss: 0.6773 t_domain_loss: 0.6869 grl_lambda: 1.000 \n",
            "Time Taken:  1.3274826248486837 minutes\n",
            "Epoch 0086 / 0100\n",
            "=================\n",
            "class_loss: 0.0001 s_domain_loss: 0.7182 t_domain_loss: 0.6959 grl_lambda: 1.000 \n",
            "Time Taken:  1.3340261896451315 minutes\n",
            "Epoch 0087 / 0100\n",
            "=================\n",
            "class_loss: 0.0135 s_domain_loss: 0.6961 t_domain_loss: 0.6338 grl_lambda: 1.000 \n",
            "Time Taken:  1.3363269209861754 minutes\n",
            "Epoch 0088 / 0100\n",
            "=================\n",
            "class_loss: 0.0204 s_domain_loss: 0.6666 t_domain_loss: 0.6693 grl_lambda: 1.000 \n",
            "Time Taken:  1.3393156806627908 minutes\n",
            "Epoch 0089 / 0100\n",
            "=================\n",
            "class_loss: 0.0496 s_domain_loss: 0.6787 t_domain_loss: 0.7476 grl_lambda: 1.000 \n",
            "Time Taken:  1.332545534769694 minutes\n",
            "Epoch 0090 / 0100\n",
            "=================\n",
            "class_loss: 0.0061 s_domain_loss: 0.7200 t_domain_loss: 0.6504 grl_lambda: 1.000 \n",
            "Time Taken:  1.3321486830711364 minutes\n",
            "Epoch 0091 / 0100\n",
            "=================\n",
            "class_loss: 0.0057 s_domain_loss: 0.6837 t_domain_loss: 0.7404 grl_lambda: 1.000 \n",
            "Time Taken:  1.3355664412180583 minutes\n",
            "Epoch 0092 / 0100\n",
            "=================\n",
            "class_loss: 0.0053 s_domain_loss: 0.6182 t_domain_loss: 0.7183 grl_lambda: 1.000 \n",
            "Time Taken:  1.3385583917299906 minutes\n",
            "Epoch 0093 / 0100\n",
            "=================\n",
            "class_loss: 0.0085 s_domain_loss: 0.6326 t_domain_loss: 0.7218 grl_lambda: 1.000 \n",
            "Time Taken:  1.3317812085151672 minutes\n",
            "Epoch 0094 / 0100\n",
            "=================\n",
            "class_loss: 0.0199 s_domain_loss: 0.7108 t_domain_loss: 0.6769 grl_lambda: 1.000 \n",
            "Time Taken:  1.329088576634725 minutes\n",
            "Epoch 0095 / 0100\n",
            "=================\n",
            "class_loss: 0.4286 s_domain_loss: 0.6738 t_domain_loss: 0.7457 grl_lambda: 1.000 \n",
            "Time Taken:  1.3196808218955993 minutes\n",
            "Epoch 0096 / 0100\n",
            "=================\n",
            "class_loss: 0.1396 s_domain_loss: 0.7628 t_domain_loss: 0.7017 grl_lambda: 1.000 \n",
            "Time Taken:  1.3218585809071859 minutes\n",
            "Epoch 0097 / 0100\n",
            "=================\n",
            "class_loss: 0.0232 s_domain_loss: 0.7171 t_domain_loss: 0.6858 grl_lambda: 1.000 \n",
            "Time Taken:  1.3154375314712525 minutes\n",
            "Epoch 0098 / 0100\n",
            "=================\n",
            "class_loss: 0.0009 s_domain_loss: 0.6860 t_domain_loss: 0.7048 grl_lambda: 1.000 \n",
            "Time Taken:  1.3146199544270833 minutes\n",
            "Epoch 0099 / 0100\n",
            "=================\n",
            "class_loss: 0.0095 s_domain_loss: 0.7146 t_domain_loss: 0.6188 grl_lambda: 1.000 \n",
            "Time Taken:  1.3195852796236673 minutes\n",
            "Epoch 0100 / 0100\n",
            "=================\n",
            "class_loss: 0.0030 s_domain_loss: 0.6499 t_domain_loss: 0.7039 grl_lambda: 1.000 \n",
            "Time Taken:  1.3349483052889506 minutes\n"
          ],
          "name": "stdout"
        }
      ]
    },
    {
      "cell_type": "markdown",
      "metadata": {
        "id": "RVjiCuGkLGH2",
        "colab_type": "text"
      },
      "source": [
        "# **Testing**"
      ]
    },
    {
      "cell_type": "markdown",
      "metadata": {
        "id": "2-MLWIOGjQZJ",
        "colab_type": "text"
      },
      "source": [
        "## Results for VGG16"
      ]
    },
    {
      "cell_type": "code",
      "metadata": {
        "id": "D-UyknzSK4oS",
        "colab_type": "code",
        "colab": {
          "base_uri": "https://localhost:8080/",
          "height": 861
        },
        "outputId": "a9b0182a-a91d-42e1-a78b-e145487c0960"
      },
      "source": [
        "accuracy_s(dl_source, model)"
      ],
      "execution_count": null,
      "outputs": [
        {
          "output_type": "stream",
          "text": [
            "Accuracy Score :  0.9780766096169519\n",
            "\n",
            "\n",
            "Classification Report\n",
            "              precision    recall  f1-score   support\n",
            "\n",
            "           0       0.98      0.97      0.97       705\n",
            "           1       0.94      0.95      0.94       717\n",
            "           2       0.96      0.92      0.94       281\n",
            "           3       0.99      0.99      0.99      4772\n",
            "           4       0.97      0.97      0.97      2524\n",
            "           5       0.96      0.98      0.97      1981\n",
            "           6       0.98      0.98      0.98      1290\n",
            "\n",
            "    accuracy                           0.98     12270\n",
            "   macro avg       0.97      0.97      0.97     12270\n",
            "weighted avg       0.98      0.98      0.98     12270\n",
            "\n",
            "\n",
            "\n",
            "Prining Confusion Matrix: \n"
          ],
          "name": "stdout"
        },
        {
          "output_type": "display_data",
          "data": {
            "image/png": "[encoded data removed]",
            "text/plain": [
              "<Figure size 720x576 with 2 Axes>"
            ]
          },
          "metadata": {
            "tags": [],
            "needs_background": "light"
          }
        }
      ]
    },
    {
      "cell_type": "code",
      "metadata": {
        "id": "e2EHJP4LK5H6",
        "colab_type": "code",
        "colab": {
          "base_uri": "https://localhost:8080/",
          "height": 861
        },
        "outputId": "7ef4aeb2-be98-4d42-dbef-421670456352"
      },
      "source": [
        "accuracy(dl_target, model)"
      ],
      "execution_count": null,
      "outputs": [
        {
          "output_type": "stream",
          "text": [
            "Accuracy Score :  0.5136134453781512\n",
            "\n",
            "\n",
            "Classification Report\n",
            "              precision    recall  f1-score   support\n",
            "\n",
            "           0       0.06      0.03      0.04       157\n",
            "           1       0.18      0.28      0.22       153\n",
            "           2       0.10      0.02      0.03       111\n",
            "           3       0.68      0.79      0.73       814\n",
            "           4       0.67      0.49      0.57      1160\n",
            "           5       0.23      0.42      0.30       269\n",
            "           6       0.40      0.49      0.44       311\n",
            "\n",
            "    accuracy                           0.51      2975\n",
            "   macro avg       0.33      0.36      0.33      2975\n",
            "weighted avg       0.53      0.51      0.51      2975\n",
            "\n",
            "\n",
            "\n",
            "Prining Confusion Matrix: \n"
          ],
          "name": "stdout"
        },
        {
          "output_type": "display_data",
          "data": {
            "image/png": "[encoded data removed]",
            "text/plain": [
              "<Figure size 720x576 with 2 Axes>"
            ]
          },
          "metadata": {
            "tags": [],
            "needs_background": "light"
          }
        }
      ]
    },
    {
      "cell_type": "code",
      "metadata": {
        "id": "f7t2Pyo9K5ff",
        "colab_type": "code",
        "colab": {
          "base_uri": "https://localhost:8080/",
          "height": 861
        },
        "outputId": "edf843ac-5150-4996-dd2f-1c3de778e570"
      },
      "source": [
        "accuracy(pk_loader_test, model)"
      ],
      "execution_count": null,
      "outputs": [
        {
          "output_type": "stream",
          "text": [
            "Accuracy Score :  0.3737931034482759\n",
            "\n",
            "\n",
            "Classification Report\n",
            "              precision    recall  f1-score   support\n",
            "\n",
            "           0       0.57      0.09      0.15       137\n",
            "           1       0.19      0.14      0.16        74\n",
            "           2       0.00      0.00      0.00        38\n",
            "           3       0.46      0.78      0.58       138\n",
            "           4       0.43      0.48      0.45       201\n",
            "           5       0.12      0.14      0.13        70\n",
            "           6       0.32      0.52      0.40        67\n",
            "\n",
            "    accuracy                           0.37       725\n",
            "   macro avg       0.30      0.31      0.27       725\n",
            "weighted avg       0.37      0.37      0.33       725\n",
            "\n",
            "\n",
            "\n",
            "Prining Confusion Matrix: \n"
          ],
          "name": "stdout"
        },
        {
          "output_type": "display_data",
          "data": {
            "image/png": "[encoded data removed]",
            "text/plain": [
              "<Figure size 720x576 with 2 Axes>"
            ]
          },
          "metadata": {
            "tags": [],
            "needs_background": "light"
          }
        }
      ]
    },
    {
      "cell_type": "code",
      "metadata": {
        "id": "QSDJuutaLBPY",
        "colab_type": "code",
        "colab": {}
      },
      "source": [
        ""
      ],
      "execution_count": null,
      "outputs": []
    },
    {
      "cell_type": "markdown",
      "metadata": {
        "id": "u_jUaJmWjhmA",
        "colab_type": "text"
      },
      "source": [
        "## Results for ResNet18"
      ]
    },
    {
      "cell_type": "code",
      "metadata": {
        "id": "HzvTvymV8q18",
        "colab_type": "code",
        "colab": {
          "base_uri": "https://localhost:8080/",
          "height": 861
        },
        "outputId": "e6f107a1-75a1-4c4d-f4e2-e8d2edf5d835"
      },
      "source": [
        "accuracy_s(dl_source, model)"
      ],
      "execution_count": null,
      "outputs": [
        {
          "output_type": "stream",
          "text": [
            "Accuracy Score :  0.9809290953545232\n",
            "\n",
            "\n",
            "Classification Report\n",
            "              precision    recall  f1-score   support\n",
            "\n",
            "           0       0.95      0.97      0.96       705\n",
            "           1       0.98      0.88      0.93       717\n",
            "           2       0.94      0.96      0.95       281\n",
            "           3       0.99      0.99      0.99      4772\n",
            "           4       0.98      0.98      0.98      2523\n",
            "           5       0.96      0.99      0.98      1982\n",
            "           6       0.99      0.98      0.99      1290\n",
            "\n",
            "    accuracy                           0.98     12270\n",
            "   macro avg       0.97      0.97      0.97     12270\n",
            "weighted avg       0.98      0.98      0.98     12270\n",
            "\n",
            "\n",
            "\n",
            "Prining Confusion Matrix: \n"
          ],
          "name": "stdout"
        },
        {
          "output_type": "display_data",
          "data": {
            "image/png": "[encoded data removed]",
            "text/plain": [
              "<Figure size 720x576 with 2 Axes>"
            ]
          },
          "metadata": {
            "tags": [],
            "needs_background": "light"
          }
        }
      ]
    },
    {
      "cell_type": "code",
      "metadata": {
        "id": "pCsZBnmAayOj",
        "colab_type": "code",
        "colab": {
          "base_uri": "https://localhost:8080/",
          "height": 861
        },
        "outputId": "f4769f51-4b29-413e-fdcf-5e1b9b37c69d"
      },
      "source": [
        "accuracy(dl_target, model)"
      ],
      "execution_count": null,
      "outputs": [
        {
          "output_type": "stream",
          "text": [
            "Accuracy Score :  0.4672268907563025\n",
            "\n",
            "\n",
            "Classification Report\n",
            "              precision    recall  f1-score   support\n",
            "\n",
            "           0       0.08      0.08      0.08       157\n",
            "           1       0.07      0.05      0.06       153\n",
            "           2       0.09      0.04      0.05       111\n",
            "           3       0.63      0.88      0.73       814\n",
            "           4       0.63      0.36      0.45      1160\n",
            "           5       0.20      0.39      0.26       269\n",
            "           6       0.39      0.43      0.41       311\n",
            "\n",
            "    accuracy                           0.47      2975\n",
            "   macro avg       0.30      0.32      0.29      2975\n",
            "weighted avg       0.49      0.47      0.45      2975\n",
            "\n",
            "\n",
            "\n",
            "Prining Confusion Matrix: \n"
          ],
          "name": "stdout"
        },
        {
          "output_type": "display_data",
          "data": {
            "image/png": "[encoded data removed]",
            "text/plain": [
              "<Figure size 720x576 with 2 Axes>"
            ]
          },
          "metadata": {
            "tags": [],
            "needs_background": "light"
          }
        }
      ]
    },
    {
      "cell_type": "code",
      "metadata": {
        "id": "sUwr64xZ_VR5",
        "colab_type": "code",
        "colab": {
          "base_uri": "https://localhost:8080/",
          "height": 861
        },
        "outputId": "45e8449c-75df-431b-cbd6-816f2969662a"
      },
      "source": [
        "accuracy(pk_loader_test, model)"
      ],
      "execution_count": null,
      "outputs": [
        {
          "output_type": "stream",
          "text": [
            "Accuracy Score :  0.32413793103448274\n",
            "\n",
            "\n",
            "Classification Report\n",
            "              precision    recall  f1-score   support\n",
            "\n",
            "           0       0.44      0.08      0.14       137\n",
            "           1       0.00      0.00      0.00        74\n",
            "           2       0.09      0.03      0.04        38\n",
            "           3       0.45      0.86      0.59       138\n",
            "           4       0.36      0.35      0.35       201\n",
            "           5       0.10      0.17      0.12        70\n",
            "           6       0.26      0.34      0.29        67\n",
            "\n",
            "    accuracy                           0.32       725\n",
            "   macro avg       0.24      0.26      0.22       725\n",
            "weighted avg       0.30      0.32      0.28       725\n",
            "\n",
            "\n",
            "\n",
            "Prining Confusion Matrix: \n"
          ],
          "name": "stdout"
        },
        {
          "output_type": "display_data",
          "data": {
            "image/png": "[encoded data removed]",
            "text/plain": [
              "<Figure size 720x576 with 2 Axes>"
            ]
          },
          "metadata": {
            "tags": [],
            "needs_background": "light"
          }
        }
      ]
    }
  ]
}